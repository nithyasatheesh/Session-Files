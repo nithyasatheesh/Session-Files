{
 "cells": [
  {
   "cell_type": "markdown",
   "id": "a0c53c74",
   "metadata": {},
   "source": [
    "### Working with different files\n",
    "\n",
    "- csv\n",
    "\n",
    "- excel\n",
    "\n",
    "- json\n",
    "\n",
    "- xml\n",
    "\n",
    "### Regular Expressions\n",
    "\n",
    "### Executables"
   ]
  },
  {
   "cell_type": "code",
   "execution_count": null,
   "id": "16bed9fb",
   "metadata": {},
   "outputs": [],
   "source": [
    "import pandas as pd\n",
    "data=pd.read_xml(\"D://Files//employee.xml\")\n",
    "data.head(2)"
   ]
  },
  {
   "cell_type": "code",
   "execution_count": null,
   "id": "e705e085",
   "metadata": {},
   "outputs": [],
   "source": [
    "data1=pd.read_json(\"D://Files//amsterdam.json\")\n",
    "data.head(2)"
   ]
  },
  {
   "cell_type": "markdown",
   "id": "78ae956e",
   "metadata": {},
   "source": [
    "#### Regular Expressions (Pattern matching)"
   ]
  },
  {
   "cell_type": "markdown",
   "id": "77a10a03",
   "metadata": {},
   "source": [
    "#### What is a regular expression and what makes it so important?\n",
    "Regex are used in Google analytics in URL matching in supporting search and replace in most popular editors like Sublime, Notepad++, Brackets, Google Docs and Microsoft word.\n",
    "\n",
    "Example :  Regular expression for an email address :\n",
    "^([a-zA-Z0-9_\\-\\.]+)@([a-zA-Z0-9_\\-\\.]+)\\.([a-zA-Z]{2,5})$ \n",
    "The above regular expression can be used for checking if a given set of characters is an email address or not."
   ]
  },
  {
   "cell_type": "markdown",
   "id": "3226bcdd",
   "metadata": {},
   "source": [
    "A Regular Expressions (RegEx) is a special sequence of characters that uses a search pattern to find a string or set of strings. It can detect the presence of a text by matching it with a particular pattern, and also can split a pattern into one or more sub-patterns."
   ]
  },
  {
   "cell_type": "markdown",
   "id": "d7356244",
   "metadata": {},
   "source": [
    "##### How to write regular expression?\n",
    "\n",
    "##### Repeaters : * , + and { } :\n",
    "These symbols act as repeaters and tell the computer that the preceding character is to be used for more than just one time.\n",
    "The asterisk symbol ( * ):\n",
    "It tells the computer to match the preceding character (or set of characters) for 0 or more times (upto infinite).\n",
    "\n",
    "Example : The regular expression ab*c will give ac, abc, abbc, \n",
    "abbbc….ans so on \n",
    "\n",
    "##### The Plus symbol ( + ):\n",
    "It tells the computer to repeat the preceding character (or set of characters) for atleast one or more times(upto infinite).\n",
    "Example : The regular expression ab+c will give abc, abbc,\n",
    "abbc, … and so on."
   ]
  },
  {
   "cell_type": "markdown",
   "id": "fa0eb89d",
   "metadata": {},
   "source": [
    "##### The curly braces {…}:\n",
    "It tells the computer to repeat the preceding character (or set of characters) for as many times as the value inside this bracket.\n",
    "Example : {2} means that the preceding character is to be repeated 2 \n",
    "times, {min,} means the preceding character is matches min or  more \n",
    "times. {min,max} means that the preceding character is repeated at\n",
    "least min & at most max times."
   ]
  },
  {
   "cell_type": "markdown",
   "id": "eb119388",
   "metadata": {},
   "source": [
    "##### Wildcard – ( . )\n",
    "The dot symbol can take place of any other symbol, that is why it\n",
    "is called the wildcard character.\n",
    "Example : \n",
    "The Regular expression .* will tell the computer that any character\n",
    "can be used any number of times.\n",
    "##### The caret ( ^ ) symbol: Setting position for match :tells the computer that the match must start at the beginning of the string or line.\n",
    "Example : ^\\d{3} will match with patterns like \"901\" in \"901-333-\".\n",
    "\n",
    "###### The dollar ( $ )symbol\n",
    "It tells the computer that the match must occur at the end of the string or before\n",
    "\\n at the end of the line or string.\n",
    "Example : -\\d{3}$  will match with patterns like \"-333\" in \"-901-333\"."
   ]
  },
  {
   "cell_type": "raw",
   "id": "a1bfc974",
   "metadata": {},
   "source": [
    "##### Character Classes\n",
    "A character class matches any one of a set of characters. It is used to match the most basic element of a language like a letter, a digit, space, a symbol etc.\n",
    "/s : matches any whitespace characters such as space and tab\n",
    "/S : matches any non-whitespace characters\n",
    "/d : matches any digit character\n",
    "/D : matches any non-digit characters\n",
    "/w : matches any word character (basically alpha-numeric)\n",
    "/W : matches any non-word character\n",
    "/b : matches any word boundary (this would include spaces, dashes, commas, semi-colons, etc)"
   ]
  },
  {
   "cell_type": "markdown",
   "id": "15f21ace",
   "metadata": {},
   "source": [
    "[set_of_characters] – Matches any single character in set_of_characters. By default, the match is case-sensitive.\n",
    "\n",
    "Example : [abc] will match characters a,b and c in any string.\n",
    "[^set_of_characters] – Negation: Matches any single character that is not in set_of_characters. By default, the match is case sensitive.\n",
    "\n",
    "Example : [^abc] will match any character except a,b,c ."
   ]
  },
  {
   "cell_type": "markdown",
   "id": "b3d2041b",
   "metadata": {},
   "source": [
    "[first-last] – Character range: Matches any single character in the range from first to last.\n",
    "\n",
    "Example : [a-zA-z] will match any character from a to z or A to Z.\n",
    "treat the following character as a search character and consider it for matching pattern."
   ]
  },
  {
   "cell_type": "code",
   "execution_count": null,
   "id": "58b97341",
   "metadata": {},
   "outputs": [],
   "source": [
    "# import package\n",
    "import re"
   ]
  },
  {
   "cell_type": "markdown",
   "id": "daff8c96",
   "metadata": {},
   "source": [
    "##### The match Function\n",
    "This function attempts to match RE pattern to string .\n",
    "\n",
    "Here is the syntax for this function −\n",
    "\n",
    "re.match(pattern, string)\n",
    " It includes digits and punctuation and all special characters like $#@!%, etc."
   ]
  },
  {
   "cell_type": "raw",
   "id": "4d9b38c0",
   "metadata": {},
   "source": [
    "re.findall()\n",
    "re.match()\n",
    "re.search()"
   ]
  },
  {
   "cell_type": "raw",
   "id": "1d0119e2",
   "metadata": {},
   "source": [
    "re.findall() is used to search for “all” occurrences that match a given pattern.\n",
    "\n",
    "re.match() function of re in Python will search the regular expression pattern and return the first occurrence. The Python RegEx Match method checks for a match only at the beginning of the string\n",
    "\n",
    "re.search() function will search the regular expression pattern and return the first occurrence. Unlike Python re.match(), it will check all lines of the input string. The Python re.search() function returns a match object when the pattern is found and “null” if the pattern is not found"
   ]
  },
  {
   "cell_type": "raw",
   "id": "b76cdca0",
   "metadata": {},
   "source": [
    "“^”: This expression matches the start of a string\n",
    "“w+“: This expression matches the alphanumeric character in the string\n",
    "[] - Square brackets \n",
    "Square brackets specifies a set of characters you wish to match.\n",
    "[^abc] means any character except a or b or c.\n",
    "[^0-9] means any non-digit character."
   ]
  },
  {
   "cell_type": "code",
   "execution_count": null,
   "id": "bf404d22",
   "metadata": {},
   "outputs": [],
   "source": [
    "'.'--> matches any character"
   ]
  },
  {
   "cell_type": "code",
   "execution_count": null,
   "id": "387e98ab",
   "metadata": {},
   "outputs": [],
   "source": [
    "re.match('.','a')"
   ]
  },
  {
   "cell_type": "code",
   "execution_count": null,
   "id": "c65049c2",
   "metadata": {},
   "outputs": [],
   "source": [
    "re.match('.','')"
   ]
  },
  {
   "cell_type": "code",
   "execution_count": null,
   "id": "690f8c92",
   "metadata": {},
   "outputs": [],
   "source": [
    "if re.match('.','a'):\n",
    "    print('Yes')\n",
    "else:\n",
    "    print('No')\n"
   ]
  },
  {
   "cell_type": "code",
   "execution_count": null,
   "id": "1f96cef1",
   "metadata": {},
   "outputs": [],
   "source": [
    "if re.match('..','a'):\n",
    "    print('Yes')\n",
    "else:\n",
    "    print('No')\n"
   ]
  },
  {
   "cell_type": "code",
   "execution_count": null,
   "id": "b6a3c5c7",
   "metadata": {},
   "outputs": [],
   "source": [
    "# Read a string with a substring of length 3 that starts with letter 'a ' and ends with letter 's'\n",
    "x='aos'\n",
    "if re.match('a.s',x):\n",
    "    print('yes')\n",
    "else:\n",
    "    print(\"No\")"
   ]
  },
  {
   "cell_type": "code",
   "execution_count": null,
   "id": "77b01353",
   "metadata": {},
   "outputs": [],
   "source": [
    "x='aosghi'\n",
    "if re.match('a.s',x):\n",
    "    print('yes')\n",
    "else:\n",
    "    print(\"No\")"
   ]
  },
  {
   "cell_type": "code",
   "execution_count": null,
   "id": "7534dfe1",
   "metadata": {},
   "outputs": [],
   "source": [
    "x='aops'\n",
    "if re.match('a.s',x):\n",
    "    print('yes')\n",
    "else:\n",
    "    print(\"No\")"
   ]
  },
  {
   "cell_type": "markdown",
   "id": "2c80d2ba",
   "metadata": {},
   "source": [
    "#### string pattern match"
   ]
  },
  {
   "cell_type": "code",
   "execution_count": 15,
   "id": "7780b15a",
   "metadata": {},
   "outputs": [
    {
     "name": "stdout",
     "output_type": "stream",
     "text": [
      "['3456', '5667']\n"
     ]
    }
   ],
   "source": [
    "# match the characters\n",
    "s='Python proramming language.3456,5667'\n",
    "pattern='\\d+'\n",
    "result = re.findall(pattern, s) \n",
    "print(result)"
   ]
  },
  {
   "cell_type": "code",
   "execution_count": 20,
   "id": "ab257034",
   "metadata": {},
   "outputs": [
    {
     "data": {
      "text/plain": [
       "<re.Match object; span=(5, 33), match=' Python proramming language.'>"
      ]
     },
     "execution_count": 20,
     "metadata": {},
     "output_type": "execute_result"
    }
   ],
   "source": [
    "s='11112 Python proramming language.3456,5667, hello all'\n",
    "pattern='\\D+'\n",
    "re.search(pattern,s)"
   ]
  },
  {
   "cell_type": "code",
   "execution_count": 23,
   "id": "e6b7f667",
   "metadata": {},
   "outputs": [
    {
     "name": "stdout",
     "output_type": "stream",
     "text": [
      "['12', '89', '34']\n"
     ]
    }
   ],
   "source": [
    "### re.findall()\n",
    "\n",
    "# Program to extract numbers from a string\n",
    "import re\n",
    "\n",
    "string = 'hello 12 hi 89. Howdy 34'\n",
    "pattern = '\\d+'\n",
    "\n",
    "result = re.findall(pattern, string) \n",
    "print(result)\n",
    "\n",
    "# Output: ['12', '89', '34']"
   ]
  },
  {
   "cell_type": "code",
   "execution_count": 26,
   "id": "f93c3d09",
   "metadata": {},
   "outputs": [
    {
     "name": "stdout",
     "output_type": "stream",
     "text": [
      "['3335676']\n"
     ]
    }
   ],
   "source": [
    "# match a string with digit end.\n",
    "string = '3456 hello 3335676'\n",
    "pattern='\\d+$'  \n",
    "result = re.findall(pattern, string) \n",
    "print(result)"
   ]
  },
  {
   "cell_type": "markdown",
   "id": "4bcf7ea8",
   "metadata": {},
   "source": [
    "The re.split method splits the string where there is a match and returns a list of strings where the splits have occurred.\n",
    "\n",
    " re.split()"
   ]
  },
  {
   "cell_type": "code",
   "execution_count": 27,
   "id": "af384b81",
   "metadata": {},
   "outputs": [
    {
     "name": "stdout",
     "output_type": "stream",
     "text": [
      "['Twelve:', ' Eighty nine:', '.']\n"
     ]
    }
   ],
   "source": [
    "# split based on digits\n",
    "\n",
    "string = 'Twelve:12 Eighty nine:89.'\n",
    "pattern = '\\d+'\n",
    "\n",
    "result = re.split(pattern, string) \n",
    "print(result)\n",
    "\n",
    "# Output: ['Twelve:', ' Eighty nine:', '.']"
   ]
  },
  {
   "cell_type": "markdown",
   "id": "0a042984",
   "metadata": {},
   "source": [
    "##### re.search()\n",
    "The re.search() method takes two arguments: a pattern and a string. The method looks for the first location where the RegEx pattern produces a match with the string.\n",
    "\n",
    "If the search is successful, re.search() returns a match object; if not, it returns None\n",
    "match1 = re.search(pattern, str)"
   ]
  },
  {
   "cell_type": "code",
   "execution_count": 36,
   "id": "73ae47ef",
   "metadata": {},
   "outputs": [
    {
     "name": "stdout",
     "output_type": "stream",
     "text": [
      "pattern found inside the string\n"
     ]
    }
   ],
   "source": [
    "import re\n",
    "string = \"Python is fun\"\n",
    "\n",
    "# check if 'Python' is at the beginning\n",
    "match = re.search('\\APython', string)  # \\A always matches at the start of the string only \n",
    "                                #in all flavors that support it.\n",
    "if match:\n",
    "    print(\"pattern found inside the string\")\n",
    "else:\n",
    "    print(\"pattern not found\")"
   ]
  },
  {
   "cell_type": "markdown",
   "id": "bca552f6",
   "metadata": {},
   "source": [
    "##### match.group()\n",
    "The group() method returns the part of the string where there is a match."
   ]
  },
  {
   "cell_type": "code",
   "execution_count": 39,
   "id": "c464e5ca",
   "metadata": {},
   "outputs": [
    {
     "name": "stdout",
     "output_type": "stream",
     "text": [
      "<re.Match object; span=(2, 8), match='801 35'>\n",
      "801 35\n"
     ]
    }
   ],
   "source": [
    "string = '39801 356, 2102 1111'\n",
    "\n",
    "# Three digit number followed by space followed by two digit number\n",
    "pattern = '(\\d{3}) (\\d{2})'\n",
    "\n",
    "# match variable contains a Match object.\n",
    "match = re.search(pattern, string) \n",
    "print(match)\n",
    "if match:\n",
    "    print(match.group())\n",
    "else:\n",
    "    print(\"pattern not found\")"
   ]
  },
  {
   "cell_type": "markdown",
   "id": "4320b81c",
   "metadata": {},
   "source": [
    "Our pattern (\\d{3}) (\\d{2}) has two subgroups (\\d{3}) and (\\d{2}). You can get the part of the string of these parenthesized subgroups."
   ]
  },
  {
   "cell_type": "markdown",
   "id": "085d2e42",
   "metadata": {},
   "source": [
    "##### match.start(), match.end() and match.span()\n",
    "The start() function returns the index of the start of the matched substring. Similarly, end() returns the end index of the matched substring."
   ]
  },
  {
   "cell_type": "code",
   "execution_count": 40,
   "id": "6350de49",
   "metadata": {},
   "outputs": [
    {
     "data": {
      "text/plain": [
       "2"
      ]
     },
     "execution_count": 40,
     "metadata": {},
     "output_type": "execute_result"
    }
   ],
   "source": [
    "match.start()"
   ]
  },
  {
   "cell_type": "code",
   "execution_count": 41,
   "id": "b1d760a3",
   "metadata": {},
   "outputs": [
    {
     "data": {
      "text/plain": [
       "8"
      ]
     },
     "execution_count": 41,
     "metadata": {},
     "output_type": "execute_result"
    }
   ],
   "source": [
    "match.end()"
   ]
  },
  {
   "cell_type": "markdown",
   "id": "00fd2869",
   "metadata": {},
   "source": [
    "##### Using r prefix before RegEx\n",
    "When r or R prefix is used before a regular expression, it means raw string. For example, '\\n' is a new line whereas r'\\n' means two characters: a backslash \\ followed by n.\n",
    "\n",
    "Backlash \\ is used to escape various characters including all metacharacters. However, using r prefix makes \\ treat as a normal character."
   ]
  },
  {
   "cell_type": "code",
   "execution_count": 42,
   "id": "e6e110bc",
   "metadata": {},
   "outputs": [
    {
     "name": "stdout",
     "output_type": "stream",
     "text": [
      "this is \n",
      "a test\n",
      "this is \\n a test\n"
     ]
    }
   ],
   "source": [
    "#Raw string using r prefix\n",
    "print('this is \\na test')\n",
    "print(r'this is \\n a test')"
   ]
  },
  {
   "cell_type": "code",
   "execution_count": 45,
   "id": "fb4625a8",
   "metadata": {
    "collapsed": true
   },
   "outputs": [
    {
     "data": {
      "text/html": [
       "<div>\n",
       "<style scoped>\n",
       "    .dataframe tbody tr th:only-of-type {\n",
       "        vertical-align: middle;\n",
       "    }\n",
       "\n",
       "    .dataframe tbody tr th {\n",
       "        vertical-align: top;\n",
       "    }\n",
       "\n",
       "    .dataframe thead th {\n",
       "        text-align: right;\n",
       "    }\n",
       "</style>\n",
       "<table border=\"1\" class=\"dataframe\">\n",
       "  <thead>\n",
       "    <tr style=\"text-align: right;\">\n",
       "      <th></th>\n",
       "      <th>Unnamed: 0</th>\n",
       "      <th>Row ID</th>\n",
       "      <th>Order ID</th>\n",
       "      <th>Order Date</th>\n",
       "      <th>Ship Date</th>\n",
       "      <th>Ship Mode</th>\n",
       "      <th>Customer ID</th>\n",
       "      <th>Customer Name</th>\n",
       "      <th>Segment</th>\n",
       "      <th>Country</th>\n",
       "      <th>...</th>\n",
       "      <th>Postal Code</th>\n",
       "      <th>Region</th>\n",
       "      <th>Product ID</th>\n",
       "      <th>Category</th>\n",
       "      <th>Sub-Category</th>\n",
       "      <th>Product Name</th>\n",
       "      <th>Sales</th>\n",
       "      <th>Quantity</th>\n",
       "      <th>Discount</th>\n",
       "      <th>Profit</th>\n",
       "    </tr>\n",
       "  </thead>\n",
       "  <tbody>\n",
       "    <tr>\n",
       "      <th>0</th>\n",
       "      <td>0</td>\n",
       "      <td>1</td>\n",
       "      <td>CA-2013-152156</td>\n",
       "      <td>11-09-2013</td>\n",
       "      <td>11-12-2013</td>\n",
       "      <td>Second Class</td>\n",
       "      <td>CG-12520</td>\n",
       "      <td>Claire Gute</td>\n",
       "      <td>Consumer</td>\n",
       "      <td>United States</td>\n",
       "      <td>...</td>\n",
       "      <td>42420</td>\n",
       "      <td>South</td>\n",
       "      <td>FUR-BO-10001798</td>\n",
       "      <td>Furniture</td>\n",
       "      <td>Bookcases</td>\n",
       "      <td>Bush Somerset Collection Bookcase</td>\n",
       "      <td>261.9600</td>\n",
       "      <td>2</td>\n",
       "      <td>0.00</td>\n",
       "      <td>41.9136</td>\n",
       "    </tr>\n",
       "    <tr>\n",
       "      <th>1</th>\n",
       "      <td>1</td>\n",
       "      <td>2</td>\n",
       "      <td>CA-2013-152156</td>\n",
       "      <td>11-09-2013</td>\n",
       "      <td>11-12-2013</td>\n",
       "      <td>Second Class</td>\n",
       "      <td>CG-12520</td>\n",
       "      <td>Claire Gute</td>\n",
       "      <td>Consumer</td>\n",
       "      <td>United States</td>\n",
       "      <td>...</td>\n",
       "      <td>42420</td>\n",
       "      <td>South</td>\n",
       "      <td>FUR-CH-10000454</td>\n",
       "      <td>Furniture</td>\n",
       "      <td>Chairs</td>\n",
       "      <td>Hon Deluxe Fabric Upholstered Stacking Chairs,...</td>\n",
       "      <td>731.9400</td>\n",
       "      <td>3</td>\n",
       "      <td>0.00</td>\n",
       "      <td>219.5820</td>\n",
       "    </tr>\n",
       "    <tr>\n",
       "      <th>2</th>\n",
       "      <td>2</td>\n",
       "      <td>3</td>\n",
       "      <td>CA-2013-138688</td>\n",
       "      <td>6/13/2013</td>\n",
       "      <td>6/17/2013</td>\n",
       "      <td>Second Class</td>\n",
       "      <td>DV-13045</td>\n",
       "      <td>Darrin Van Huff</td>\n",
       "      <td>Corporate</td>\n",
       "      <td>United States</td>\n",
       "      <td>...</td>\n",
       "      <td>90036</td>\n",
       "      <td>West</td>\n",
       "      <td>OFF-LA-10000240</td>\n",
       "      <td>Office Supplies</td>\n",
       "      <td>Labels</td>\n",
       "      <td>Self-Adhesive Address Labels for Typewriters b...</td>\n",
       "      <td>14.6200</td>\n",
       "      <td>2</td>\n",
       "      <td>0.00</td>\n",
       "      <td>6.8714</td>\n",
       "    </tr>\n",
       "    <tr>\n",
       "      <th>3</th>\n",
       "      <td>3</td>\n",
       "      <td>4</td>\n",
       "      <td>US-2012-108966</td>\n",
       "      <td>10-11-2012</td>\n",
       "      <td>10/18/2012</td>\n",
       "      <td>Standard Class</td>\n",
       "      <td>SO-20335</td>\n",
       "      <td>Sean O'Donnell</td>\n",
       "      <td>Consumer</td>\n",
       "      <td>United States</td>\n",
       "      <td>...</td>\n",
       "      <td>33311</td>\n",
       "      <td>South</td>\n",
       "      <td>FUR-TA-10000577</td>\n",
       "      <td>Furniture</td>\n",
       "      <td>Tables</td>\n",
       "      <td>Bretford CR4500 Series Slim Rectangular Table</td>\n",
       "      <td>957.5775</td>\n",
       "      <td>5</td>\n",
       "      <td>0.45</td>\n",
       "      <td>-383.0310</td>\n",
       "    </tr>\n",
       "    <tr>\n",
       "      <th>4</th>\n",
       "      <td>4</td>\n",
       "      <td>5</td>\n",
       "      <td>US-2012-108966</td>\n",
       "      <td>10-11-2012</td>\n",
       "      <td>10/18/2012</td>\n",
       "      <td>Standard Class</td>\n",
       "      <td>SO-20335</td>\n",
       "      <td>Sean O'Donnell</td>\n",
       "      <td>Consumer</td>\n",
       "      <td>United States</td>\n",
       "      <td>...</td>\n",
       "      <td>33311</td>\n",
       "      <td>South</td>\n",
       "      <td>OFF-ST-10000760</td>\n",
       "      <td>Office Supplies</td>\n",
       "      <td>Storage</td>\n",
       "      <td>Eldon Fold 'N Roll Cart System</td>\n",
       "      <td>22.3680</td>\n",
       "      <td>2</td>\n",
       "      <td>0.20</td>\n",
       "      <td>2.5164</td>\n",
       "    </tr>\n",
       "    <tr>\n",
       "      <th>...</th>\n",
       "      <td>...</td>\n",
       "      <td>...</td>\n",
       "      <td>...</td>\n",
       "      <td>...</td>\n",
       "      <td>...</td>\n",
       "      <td>...</td>\n",
       "      <td>...</td>\n",
       "      <td>...</td>\n",
       "      <td>...</td>\n",
       "      <td>...</td>\n",
       "      <td>...</td>\n",
       "      <td>...</td>\n",
       "      <td>...</td>\n",
       "      <td>...</td>\n",
       "      <td>...</td>\n",
       "      <td>...</td>\n",
       "      <td>...</td>\n",
       "      <td>...</td>\n",
       "      <td>...</td>\n",
       "      <td>...</td>\n",
       "      <td>...</td>\n",
       "    </tr>\n",
       "    <tr>\n",
       "      <th>9989</th>\n",
       "      <td>9989</td>\n",
       "      <td>9990</td>\n",
       "      <td>CA-2011-110422</td>\n",
       "      <td>1/22/2011</td>\n",
       "      <td>1/24/2011</td>\n",
       "      <td>Second Class</td>\n",
       "      <td>TB-21400</td>\n",
       "      <td>Tom Boeckenhauer</td>\n",
       "      <td>Consumer</td>\n",
       "      <td>United States</td>\n",
       "      <td>...</td>\n",
       "      <td>33180</td>\n",
       "      <td>South</td>\n",
       "      <td>FUR-FU-10001889</td>\n",
       "      <td>Furniture</td>\n",
       "      <td>Furnishings</td>\n",
       "      <td>Ultra Door Pull Handle</td>\n",
       "      <td>25.2480</td>\n",
       "      <td>3</td>\n",
       "      <td>0.20</td>\n",
       "      <td>4.1028</td>\n",
       "    </tr>\n",
       "    <tr>\n",
       "      <th>9990</th>\n",
       "      <td>9990</td>\n",
       "      <td>9991</td>\n",
       "      <td>CA-2014-121258</td>\n",
       "      <td>2/27/2014</td>\n",
       "      <td>03-04-2014</td>\n",
       "      <td>Standard Class</td>\n",
       "      <td>DB-13060</td>\n",
       "      <td>Dave Brooks</td>\n",
       "      <td>Consumer</td>\n",
       "      <td>United States</td>\n",
       "      <td>...</td>\n",
       "      <td>92627</td>\n",
       "      <td>West</td>\n",
       "      <td>FUR-FU-10000747</td>\n",
       "      <td>Furniture</td>\n",
       "      <td>Furnishings</td>\n",
       "      <td>Tenex B1-RE Series Chair Mats for Low Pile Car...</td>\n",
       "      <td>91.9600</td>\n",
       "      <td>2</td>\n",
       "      <td>0.00</td>\n",
       "      <td>15.6332</td>\n",
       "    </tr>\n",
       "    <tr>\n",
       "      <th>9991</th>\n",
       "      <td>9991</td>\n",
       "      <td>9992</td>\n",
       "      <td>CA-2014-121258</td>\n",
       "      <td>2/27/2014</td>\n",
       "      <td>03-04-2014</td>\n",
       "      <td>Standard Class</td>\n",
       "      <td>DB-13060</td>\n",
       "      <td>Dave Brooks</td>\n",
       "      <td>Consumer</td>\n",
       "      <td>United States</td>\n",
       "      <td>...</td>\n",
       "      <td>92627</td>\n",
       "      <td>West</td>\n",
       "      <td>TEC-PH-10003645</td>\n",
       "      <td>Technology</td>\n",
       "      <td>Phones</td>\n",
       "      <td>Aastra 57i VoIP phone</td>\n",
       "      <td>258.5760</td>\n",
       "      <td>2</td>\n",
       "      <td>0.20</td>\n",
       "      <td>19.3932</td>\n",
       "    </tr>\n",
       "    <tr>\n",
       "      <th>9992</th>\n",
       "      <td>9992</td>\n",
       "      <td>9993</td>\n",
       "      <td>CA-2014-121258</td>\n",
       "      <td>2/27/2014</td>\n",
       "      <td>03-04-2014</td>\n",
       "      <td>Standard Class</td>\n",
       "      <td>DB-13060</td>\n",
       "      <td>Dave Brooks</td>\n",
       "      <td>Consumer</td>\n",
       "      <td>United States</td>\n",
       "      <td>...</td>\n",
       "      <td>92627</td>\n",
       "      <td>West</td>\n",
       "      <td>OFF-PA-10004041</td>\n",
       "      <td>Office Supplies</td>\n",
       "      <td>Paper</td>\n",
       "      <td>It's Hot Message Books with Stickers, 2 3/4\" x 5\"</td>\n",
       "      <td>29.6000</td>\n",
       "      <td>4</td>\n",
       "      <td>0.00</td>\n",
       "      <td>13.3200</td>\n",
       "    </tr>\n",
       "    <tr>\n",
       "      <th>9993</th>\n",
       "      <td>9993</td>\n",
       "      <td>9994</td>\n",
       "      <td>CA-2014-119914</td>\n",
       "      <td>05-05-2014</td>\n",
       "      <td>05-10-2014</td>\n",
       "      <td>Second Class</td>\n",
       "      <td>CC-12220</td>\n",
       "      <td>Chris Cortes</td>\n",
       "      <td>Consumer</td>\n",
       "      <td>United States</td>\n",
       "      <td>...</td>\n",
       "      <td>92683</td>\n",
       "      <td>West</td>\n",
       "      <td>OFF-AP-10002684</td>\n",
       "      <td>Office Supplies</td>\n",
       "      <td>Appliances</td>\n",
       "      <td>Acco 7-Outlet Masterpiece Power Center, Wihtou...</td>\n",
       "      <td>243.1600</td>\n",
       "      <td>2</td>\n",
       "      <td>0.00</td>\n",
       "      <td>72.9480</td>\n",
       "    </tr>\n",
       "  </tbody>\n",
       "</table>\n",
       "<p>9994 rows × 22 columns</p>\n",
       "</div>"
      ],
      "text/plain": [
       "      Unnamed: 0  Row ID        Order ID  Order Date   Ship Date  \\\n",
       "0              0       1  CA-2013-152156  11-09-2013  11-12-2013   \n",
       "1              1       2  CA-2013-152156  11-09-2013  11-12-2013   \n",
       "2              2       3  CA-2013-138688   6/13/2013   6/17/2013   \n",
       "3              3       4  US-2012-108966  10-11-2012  10/18/2012   \n",
       "4              4       5  US-2012-108966  10-11-2012  10/18/2012   \n",
       "...          ...     ...             ...         ...         ...   \n",
       "9989        9989    9990  CA-2011-110422   1/22/2011   1/24/2011   \n",
       "9990        9990    9991  CA-2014-121258   2/27/2014  03-04-2014   \n",
       "9991        9991    9992  CA-2014-121258   2/27/2014  03-04-2014   \n",
       "9992        9992    9993  CA-2014-121258   2/27/2014  03-04-2014   \n",
       "9993        9993    9994  CA-2014-119914  05-05-2014  05-10-2014   \n",
       "\n",
       "           Ship Mode Customer ID     Customer Name    Segment        Country  \\\n",
       "0       Second Class    CG-12520       Claire Gute   Consumer  United States   \n",
       "1       Second Class    CG-12520       Claire Gute   Consumer  United States   \n",
       "2       Second Class    DV-13045   Darrin Van Huff  Corporate  United States   \n",
       "3     Standard Class    SO-20335    Sean O'Donnell   Consumer  United States   \n",
       "4     Standard Class    SO-20335    Sean O'Donnell   Consumer  United States   \n",
       "...              ...         ...               ...        ...            ...   \n",
       "9989    Second Class    TB-21400  Tom Boeckenhauer   Consumer  United States   \n",
       "9990  Standard Class    DB-13060       Dave Brooks   Consumer  United States   \n",
       "9991  Standard Class    DB-13060       Dave Brooks   Consumer  United States   \n",
       "9992  Standard Class    DB-13060       Dave Brooks   Consumer  United States   \n",
       "9993    Second Class    CC-12220      Chris Cortes   Consumer  United States   \n",
       "\n",
       "      ... Postal Code Region       Product ID         Category Sub-Category  \\\n",
       "0     ...       42420  South  FUR-BO-10001798        Furniture    Bookcases   \n",
       "1     ...       42420  South  FUR-CH-10000454        Furniture       Chairs   \n",
       "2     ...       90036   West  OFF-LA-10000240  Office Supplies       Labels   \n",
       "3     ...       33311  South  FUR-TA-10000577        Furniture       Tables   \n",
       "4     ...       33311  South  OFF-ST-10000760  Office Supplies      Storage   \n",
       "...   ...         ...    ...              ...              ...          ...   \n",
       "9989  ...       33180  South  FUR-FU-10001889        Furniture  Furnishings   \n",
       "9990  ...       92627   West  FUR-FU-10000747        Furniture  Furnishings   \n",
       "9991  ...       92627   West  TEC-PH-10003645       Technology       Phones   \n",
       "9992  ...       92627   West  OFF-PA-10004041  Office Supplies        Paper   \n",
       "9993  ...       92683   West  OFF-AP-10002684  Office Supplies   Appliances   \n",
       "\n",
       "                                           Product Name     Sales Quantity  \\\n",
       "0                     Bush Somerset Collection Bookcase  261.9600        2   \n",
       "1     Hon Deluxe Fabric Upholstered Stacking Chairs,...  731.9400        3   \n",
       "2     Self-Adhesive Address Labels for Typewriters b...   14.6200        2   \n",
       "3         Bretford CR4500 Series Slim Rectangular Table  957.5775        5   \n",
       "4                        Eldon Fold 'N Roll Cart System   22.3680        2   \n",
       "...                                                 ...       ...      ...   \n",
       "9989                             Ultra Door Pull Handle   25.2480        3   \n",
       "9990  Tenex B1-RE Series Chair Mats for Low Pile Car...   91.9600        2   \n",
       "9991                              Aastra 57i VoIP phone  258.5760        2   \n",
       "9992  It's Hot Message Books with Stickers, 2 3/4\" x 5\"   29.6000        4   \n",
       "9993  Acco 7-Outlet Masterpiece Power Center, Wihtou...  243.1600        2   \n",
       "\n",
       "      Discount    Profit  \n",
       "0         0.00   41.9136  \n",
       "1         0.00  219.5820  \n",
       "2         0.00    6.8714  \n",
       "3         0.45 -383.0310  \n",
       "4         0.20    2.5164  \n",
       "...        ...       ...  \n",
       "9989      0.20    4.1028  \n",
       "9990      0.00   15.6332  \n",
       "9991      0.20   19.3932  \n",
       "9992      0.00   13.3200  \n",
       "9993      0.00   72.9480  \n",
       "\n",
       "[9994 rows x 22 columns]"
      ]
     },
     "execution_count": 45,
     "metadata": {},
     "output_type": "execute_result"
    }
   ],
   "source": [
    "pd.read_csv(r\"D:\\Files\\store.csv\")"
   ]
  },
  {
   "cell_type": "code",
   "execution_count": 46,
   "id": "8f315565",
   "metadata": {},
   "outputs": [
    {
     "name": "stdout",
     "output_type": "stream",
     "text": [
      "\t this is a good product\n",
      "\\t this is a good product\n"
     ]
    }
   ],
   "source": [
    "print('\\t this is a good product')\n",
    "print(r'\\t this is a good product')"
   ]
  },
  {
   "cell_type": "markdown",
   "id": "e2496c0f",
   "metadata": {},
   "source": [
    "#### Examples"
   ]
  },
  {
   "cell_type": "code",
   "execution_count": 47,
   "id": "f0197289",
   "metadata": {},
   "outputs": [
    {
     "name": "stdout",
     "output_type": "stream",
     "text": [
      "['We']\n"
     ]
    }
   ],
   "source": [
    "import re\n",
    "line1='We just received $10.00 for cookies.'\n",
    "r1 = re.findall(r\"^\\w+\",line1)\n",
    "print(r1)\n",
    "## The ‘ ^ ’ character checks if the string starts with a particular word or character."
   ]
  },
  {
   "cell_type": "code",
   "execution_count": 48,
   "id": "a6c62d0d",
   "metadata": {},
   "outputs": [
    {
     "name": "stdout",
     "output_type": "stream",
     "text": [
      "['10.00', '.']\n"
     ]
    }
   ],
   "source": [
    "y = re.findall('[0-9.]+',line1)\n",
    "print(y)"
   ]
  },
  {
   "cell_type": "code",
   "execution_count": 49,
   "id": "8f3b1ac4",
   "metadata": {},
   "outputs": [
    {
     "name": "stdout",
     "output_type": "stream",
     "text": [
      "['$10.00']\n"
     ]
    }
   ],
   "source": [
    "y = re.findall('\\$[0-9.]+',line1)\n",
    "print(y)"
   ]
  },
  {
   "cell_type": "code",
   "execution_count": 50,
   "id": "021a9676",
   "metadata": {},
   "outputs": [
    {
     "name": "stdout",
     "output_type": "stream",
     "text": [
      "<re.Match object; span=(27, 30), match='345'>\n",
      "345\n",
      "Start Index: 27\n",
      "End Index: 30\n"
     ]
    }
   ],
   "source": [
    "# match first 3 digits, find start and end index\n",
    "s=\"This is the first sentence 34567\"\n",
    "s1=\"This is the second sentence\"\n",
    "match = re.search('(\\d{3})',s)\n",
    "print(match)\n",
    "print(match.group())\n",
    "print('Start Index:', match.start())\n",
    "print('End Index:', match.end())"
   ]
  },
  {
   "cell_type": "code",
   "execution_count": 51,
   "id": "258ba885",
   "metadata": {},
   "outputs": [
    {
     "name": "stdout",
     "output_type": "stream",
     "text": [
      "['Python', 'pandas']\n"
     ]
    }
   ],
   "source": [
    "import re\n",
    "target_string = \"Jessa loves Python and pandas\"\n",
    "# Match six-letter word\n",
    "pattern = r\"\\w{6}\"\n",
    "p=re.findall(r\"\\w{6}\",target_string)\n",
    "\n",
    "print(p)"
   ]
  },
  {
   "cell_type": "code",
   "execution_count": null,
   "id": "129f0eca",
   "metadata": {},
   "outputs": [],
   "source": [
    "import re\n",
    "\n",
    "target_string = \"Jessa loves Python and pandas\"\n",
    "# Match six-letter word\n",
    "pattern = r\"\\w{6}\"\n",
    "\n",
    "# match() method   --> re.match() method looks for the regex pattern only at the beginning \n",
    "#of the target string and returns match object if match found; otherwise, it will return None.\n",
    "result = re.match(pattern, target_string)\n",
    "print(result)\n",
    "# Output None\n",
    "\n",
    "# search() method ->Matches pattern anywhere in the string. Return only first match\n",
    "result = re.search(pattern, target_string)\n",
    "print(result.group()) \n",
    "# Output 'Python'\n",
    "\n",
    "# findall() method -->Returns all matches to the pattern\n",
    "result = re.findall(pattern, target_string)\n",
    "print(result) \n",
    "# Output ['Python', 'pandas'] "
   ]
  },
  {
   "cell_type": "code",
   "execution_count": 52,
   "id": "9c46275e",
   "metadata": {},
   "outputs": [
    {
     "name": "stdout",
     "output_type": "stream",
     "text": [
      "Matching number:  1993\n"
     ]
    }
   ],
   "source": [
    "# Example to match the four-digit number at the end of the string\n",
    "target_string = \"Emma is a basketball player who was born on June 17, 1993\"\n",
    "\n",
    "# match at the end\n",
    "result = re.search(r\"\\d{4}$\", target_string)\n",
    "print(\"Matching number: \", result.group())  "
   ]
  },
  {
   "cell_type": "code",
   "execution_count": 53,
   "id": "a2787075",
   "metadata": {},
   "outputs": [
    {
     "name": "stdout",
     "output_type": "stream",
     "text": [
      "<re.Match object; span=(0, 9), match='Jessa 456'>\n",
      "Jessa 456\n",
      "0\n",
      "End index:  9\n",
      "(0, 9)\n"
     ]
    }
   ],
   "source": [
    "target_string = \"Jessa 456 and Kelly 38\"\n",
    "\n",
    "# Match five-letter word\n",
    "res = re.match(r\"(\\w{5}).(\\d+)\", target_string)\n",
    "\n",
    "# printing entire match object\n",
    "print(res)\n",
    "\n",
    "# Extract Matching value\n",
    "print(res.group())\n",
    "\n",
    "# Start index of a match\n",
    "print(res.start())\n",
    "\n",
    "# End index of a match\n",
    "print(\"End index: \", res.end())  # 5\n",
    "\n",
    "# Start and end index of a match\n",
    "pos = res.span()\n",
    "print(pos)\n"
   ]
  },
  {
   "cell_type": "markdown",
   "id": "2960ce25",
   "metadata": {},
   "source": [
    "### Executables"
   ]
  },
  {
   "cell_type": "markdown",
   "id": "fd8ed990",
   "metadata": {},
   "source": [
    "An executable is a file that contains a program - that is, a particular kind of file that is capable of being executed or run as a program in the computer."
   ]
  },
  {
   "cell_type": "markdown",
   "id": "baee4659",
   "metadata": {},
   "source": [
    "#### Convert .py file into .exe file"
   ]
  },
  {
   "cell_type": "code",
   "execution_count": null,
   "id": "27aeca00",
   "metadata": {},
   "outputs": [],
   "source": [
    "import os\n",
    "os.chdir('C://Users//nithyalakshmim//Anaconda3//Scripts')"
   ]
  },
  {
   "cell_type": "code",
   "execution_count": null,
   "id": "fb5a6a4c",
   "metadata": {},
   "outputs": [],
   "source": [
    "os.getcwd()"
   ]
  },
  {
   "cell_type": "code",
   "execution_count": null,
   "id": "5b9da7b1",
   "metadata": {},
   "outputs": [],
   "source": [
    "!pip install pyinstaller"
   ]
  },
  {
   "cell_type": "code",
   "execution_count": null,
   "id": "f029af3e",
   "metadata": {},
   "outputs": [],
   "source": [
    "!pip install --upgrade pip"
   ]
  },
  {
   "cell_type": "code",
   "execution_count": null,
   "id": "af4b638e",
   "metadata": {},
   "outputs": [],
   "source": [
    "Go to command powershell."
   ]
  },
  {
   "cell_type": "code",
   "execution_count": null,
   "id": "b84523be",
   "metadata": {},
   "outputs": [],
   "source": [
    "import pyinstaller\n"
   ]
  },
  {
   "cell_type": "code",
   "execution_count": null,
   "id": "9eaf5574",
   "metadata": {},
   "outputs": [],
   "source": []
  }
 ],
 "metadata": {
  "kernelspec": {
   "display_name": "Python 3 (ipykernel)",
   "language": "python",
   "name": "python3"
  },
  "language_info": {
   "codemirror_mode": {
    "name": "ipython",
    "version": 3
   },
   "file_extension": ".py",
   "mimetype": "text/x-python",
   "name": "python",
   "nbconvert_exporter": "python",
   "pygments_lexer": "ipython3",
   "version": "3.9.13"
  }
 },
 "nbformat": 4,
 "nbformat_minor": 5
}
