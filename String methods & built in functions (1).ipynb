{
 "cells": [
  {
   "cell_type": "markdown",
   "id": "59c8c1b2",
   "metadata": {},
   "source": [
    "## String Methods"
   ]
  },
  {
   "cell_type": "markdown",
   "id": "0ac29cb4",
   "metadata": {},
   "source": [
    "Python string is a sequence of Unicode characters that is enclosed in the quotations marks"
   ]
  },
  {
   "cell_type": "code",
   "execution_count": null,
   "id": "2b90d4e6",
   "metadata": {},
   "outputs": [],
   "source": [
    "##### Case Changing of Strings\n",
    "The below functions are used to change the case of the strings.\n",
    "\n",
    "lower(): Converts all uppercase characters in a string into lowercase\n",
    "upper(): Converts all lowercase characters in a string into uppercase\n",
    "title(): Convert string to title case"
   ]
  },
  {
   "cell_type": "code",
   "execution_count": 1,
   "id": "aef05c18",
   "metadata": {},
   "outputs": [
    {
     "name": "stdout",
     "output_type": "stream",
     "text": [
      " welcome to all\n",
      " WELCOME TO ALL\n",
      " Welcome To All\n"
     ]
    }
   ],
   "source": [
    "text=\" Welcome to all\"\n",
    "print(text.lower())\n",
    "print(text.upper())\n",
    "print(text.title())"
   ]
  },
  {
   "cell_type": "code",
   "execution_count": 5,
   "id": "5a7baecb",
   "metadata": {},
   "outputs": [
    {
     "name": "stdout",
     "output_type": "stream",
     "text": [
      "Welcome to all\n"
     ]
    }
   ],
   "source": [
    "text=\"welcome to all\"\n",
    "print(text.capitalize())"
   ]
  },
  {
   "cell_type": "markdown",
   "id": "0fb17dcc",
   "metadata": {},
   "source": [
    "#### Python string | swapcase()\n",
    "The string swapcase() method converts all uppercase characters to lowercase and vice versa of the given string, and returns it"
   ]
  },
  {
   "cell_type": "code",
   "execution_count": 6,
   "id": "eadfa5a0",
   "metadata": {},
   "outputs": [
    {
     "name": "stdout",
     "output_type": "stream",
     "text": [
      "JIGsAW\n",
      "striver\n"
     ]
    }
   ],
   "source": [
    "string = \"jigSaw\"\n",
    "  \n",
    "# prints after swappong all cases\n",
    "print(string.swapcase())   \n",
    "  \n",
    "string = \"STRIVER\" \n",
    "print(string.swapcase())  "
   ]
  },
  {
   "cell_type": "markdown",
   "id": "d4963377",
   "metadata": {},
   "source": [
    "### String formatting in Python¶"
   ]
  },
  {
   "cell_type": "markdown",
   "id": "ea77f8c6",
   "metadata": {},
   "source": [
    "Formatting with format() string method. Formatting with string literals, called f-strings"
   ]
  },
  {
   "cell_type": "code",
   "execution_count": 7,
   "id": "b09125cc",
   "metadata": {},
   "outputs": [
    {
     "name": "stdout",
     "output_type": "stream",
     "text": [
      "We all are equal.\n"
     ]
    }
   ],
   "source": [
    "# Formatting string using format() method\n",
    "print('We all are {}.'.format('equal'))"
   ]
  },
  {
   "cell_type": "code",
   "execution_count": 8,
   "id": "48bab052",
   "metadata": {},
   "outputs": [
    {
     "name": "stdout",
     "output_type": "stream",
     "text": [
      "Read the directions\n"
     ]
    }
   ],
   "source": [
    "print('{2} {1} {0}'.format('directions',\n",
    "                           'the', 'Read'))"
   ]
  },
  {
   "cell_type": "code",
   "execution_count": null,
   "id": "60d0621b",
   "metadata": {},
   "outputs": [],
   "source": [
    "# Formatted String using F-strings\n",
    "name = 'Ele'\n",
    "print(f\"My name is {name}.\")"
   ]
  },
  {
   "cell_type": "markdown",
   "id": "4851f225",
   "metadata": {},
   "source": [
    "### Splitting and Joining"
   ]
  },
  {
   "cell_type": "markdown",
   "id": "25d0b2c1",
   "metadata": {},
   "source": [
    "we can use the function split() to split a string and join() to join a string. the split() method in Python split a string into a list of strings after breaking the given string by the specified separator. Python String join() method is a string method and returns a string in which the elements of the sequence have been joined by the str separator."
   ]
  },
  {
   "cell_type": "code",
   "execution_count": 9,
   "id": "06c17d1f",
   "metadata": {},
   "outputs": [
    {
     "name": "stdout",
     "output_type": "stream",
     "text": [
      "['Welcome', 'to', 'our', 'Country']\n",
      "Welcome-to-our-Country\n"
     ]
    }
   ],
   "source": [
    "# input string\n",
    "s = 'Welcome to our Country'\n",
    "# print the string after split method\n",
    "print(s.split(\" \"))\n",
    "# print the string after join method\n",
    "print(\"-\".join(s.split()))"
   ]
  },
  {
   "cell_type": "markdown",
   "id": "a906f950",
   "metadata": {},
   "source": [
    "### Built in functions"
   ]
  },
  {
   "cell_type": "code",
   "execution_count": 12,
   "id": "d15f45cc",
   "metadata": {},
   "outputs": [],
   "source": [
    "# string functions\n",
    "S=\"Saturday\""
   ]
  },
  {
   "cell_type": "code",
   "execution_count": 13,
   "id": "b4478aac",
   "metadata": {},
   "outputs": [
    {
     "data": {
      "text/plain": [
       "'tur'"
      ]
     },
     "execution_count": 13,
     "metadata": {},
     "output_type": "execute_result"
    }
   ],
   "source": [
    "# The slice() function returns a slice object.\n",
    "#specified by range(start, stop, step)\n",
    "  #start: #Optional. An integer number specifying at which position to start the slicing. Default is 0\n",
    "  #end: An integer number specifying at which position to end the slicing\n",
    "  #step: Optional. An integer number specifying the step of the slicing. Default is 1\n",
    "y=slice(2,5)\n",
    "S[y]\n",
    "# slice(3)\n",
    "# slice(2,5,2)"
   ]
  },
  {
   "cell_type": "code",
   "execution_count": 14,
   "id": "97c6a53f",
   "metadata": {},
   "outputs": [
    {
     "data": {
      "text/plain": [
       "[(0, 'eat'), (1, 'sleep'), (2, 'repeat')]"
      ]
     },
     "execution_count": 14,
     "metadata": {},
     "output_type": "execute_result"
    }
   ],
   "source": [
    "# enumerate\n",
    "# Enumerate() function adds a counter to an iterable and returns it in a form of enumerating object. \n",
    "#This enumerated object can then be used directly for loops or \n",
    "#converted into a list of tuples using the list() method.\n",
    "l1 = [\"eat\", \"sleep\", \"repeat\"]\n",
    "list(enumerate(l1))"
   ]
  },
  {
   "cell_type": "markdown",
   "id": "eb8e8892",
   "metadata": {},
   "source": [
    "#### Numeric functions"
   ]
  },
  {
   "cell_type": "code",
   "execution_count": null,
   "id": "6b4cfd8d",
   "metadata": {},
   "outputs": [],
   "source": [
    "# reduce function"
   ]
  },
  {
   "cell_type": "code",
   "execution_count": 15,
   "id": "81910bfe",
   "metadata": {},
   "outputs": [
    {
     "name": "stdout",
     "output_type": "stream",
     "text": [
      "10\n"
     ]
    },
    {
     "data": {
      "text/plain": [
       "int"
      ]
     },
     "execution_count": 15,
     "metadata": {},
     "output_type": "execute_result"
    }
   ],
   "source": [
    "from functools import reduce\n",
    "numbers = [1, 2, 3, 4]\n",
    "\n",
    "num=reduce(lambda a, b: a + b, numbers)\n",
    "print(num)\n",
    "type(num)"
   ]
  },
  {
   "cell_type": "code",
   "execution_count": 17,
   "id": "50d59485",
   "metadata": {},
   "outputs": [
    {
     "data": {
      "text/plain": [
       "49"
      ]
     },
     "execution_count": 17,
     "metadata": {},
     "output_type": "execute_result"
    }
   ],
   "source": [
    "#pow()\n",
    "x=7\n",
    "pow(x,2)"
   ]
  },
  {
   "cell_type": "markdown",
   "id": "dda8f1bf",
   "metadata": {},
   "source": [
    "#######################################    END    #################################################"
   ]
  }
 ],
 "metadata": {
  "kernelspec": {
   "display_name": "Python 3 (ipykernel)",
   "language": "python",
   "name": "python3"
  },
  "language_info": {
   "codemirror_mode": {
    "name": "ipython",
    "version": 3
   },
   "file_extension": ".py",
   "mimetype": "text/x-python",
   "name": "python",
   "nbconvert_exporter": "python",
   "pygments_lexer": "ipython3",
   "version": "3.9.13"
  }
 },
 "nbformat": 4,
 "nbformat_minor": 5
}
