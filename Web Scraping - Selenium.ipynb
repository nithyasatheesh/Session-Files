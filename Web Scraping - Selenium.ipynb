{
 "cells": [
  {
   "cell_type": "markdown",
   "metadata": {},
   "source": [
    "### Selenium\n",
    "Selenium is a Python tool for automating web browsers to do number of tasks."
   ]
  },
  {
   "cell_type": "code",
   "execution_count": 1,
   "metadata": {},
   "outputs": [],
   "source": [
    "url=\"https://www.naukri.com/data-science-jobs?k=data%20science\""
   ]
  },
  {
   "cell_type": "code",
   "execution_count": null,
   "metadata": {},
   "outputs": [],
   "source": [
    "#!pip install Selenium"
   ]
  },
  {
   "cell_type": "code",
   "execution_count": 2,
   "metadata": {},
   "outputs": [],
   "source": [
    "from selenium import webdriver\n",
    "from bs4 import BeautifulSoup\n",
    "import os\n",
    "os.chdir('D:\\\\scripts\\\\scrapping\\\\new')# install mozila geckodriver\n",
    "# Firefox webdriver driver github\n",
    "# WebDriver is a remote control interface that enables introspection and control of user agents"
   ]
  },
  {
   "cell_type": "raw",
   "metadata": {},
   "source": [
    "Selenium Firefox Driver, also called GeckoDriver is a browser engine developed by Mozilla for many applications. It provides a link between test cases and the Firefox browser. Without the help of GeckoDriver, one cannot instantiate the object of Firefox browser and perform automated Selenium testing."
   ]
  },
  {
   "cell_type": "code",
   "execution_count": 3,
   "metadata": {},
   "outputs": [],
   "source": [
    "#initiate the mozila firefox/Edge\n",
    "#browser=webdriver.Firefox()\n",
    "browser=webdriver.Edge()"
   ]
  },
  {
   "cell_type": "code",
   "execution_count": 4,
   "metadata": {},
   "outputs": [],
   "source": [
    "browser.get(url)"
   ]
  },
  {
   "cell_type": "code",
   "execution_count": 5,
   "metadata": {},
   "outputs": [],
   "source": [
    "html=browser.page_source  \n",
    "#page_source method is used retrieve the page source of the webpage the user is currently accessing. \n",
    "soup=BeautifulSoup(html,'html.parser')"
   ]
  },
  {
   "cell_type": "code",
   "execution_count": 6,
   "metadata": {
    "collapsed": true
   },
   "outputs": [
    {
     "data": {
      "text/plain": [
       "[<a class=\"title ellipsis\" href=\"https://www.naukri.com/job-listings-data-science-professional-akn-it-services-chennai-0-to-1-years-020323906578\" target=\"_blank\" title=\"Data Science Professional\">Data Science Professional</a>,\n",
       " <a class=\"title ellipsis\" href=\"https://www.naukri.com/job-listings-opening-for-data-engineer-data-science-ml-analytics-gd-hyd-globaldata-hyderabad-secunderabad-1-to-3-years-060323004653\" target=\"_blank\" title=\"Job opening For Data Engineer(Data Science/ML/Analytics@ GD(Hyd)\">Job opening For Data Engineer(Data Science/ML/Analytics@ GD(Hyd)</a>,\n",
       " <a class=\"title ellipsis\" href=\"https://www.naukri.com/job-listings-senior-analyst-data-science-analytics-transunion-software-services-pvt-ltd-pune-5-to-8-years-070323501775\" target=\"_blank\" title=\"Senior Analyst, Data Science &amp; Analytics\">Senior Analyst, Data Science &amp; Analytics</a>,\n",
       " <a class=\"title ellipsis\" href=\"https://www.naukri.com/job-listings-analyst-data-science-navit-software-solutions-kolkata-mumbai-new-delhi-hyderabad-secunderabad-pune-chennai-bangalore-bengaluru-3-to-7-years-070323501281\" target=\"_blank\" title=\"Analyst Data Science\">Analyst Data Science</a>,\n",
       " <a class=\"title ellipsis\" href=\"https://www.naukri.com/job-listings-data-science-analyst-shell-pvt-ltd-chennai-2-to-5-years-280223502254\" target=\"_blank\" title=\"Data Science Analyst\">Data Science Analyst</a>,\n",
       " <a class=\"title ellipsis\" href=\"https://www.naukri.com/job-listings-data-science-lead-manager-product-based-ecommerce-company-mnc-contrado-imaging-india-pvt-ltd-ahmedabad-5-to-10-years-070323006163\" target=\"_blank\" title=\"Data Science Lead / Manager - Product based eCommerce Company (MNC)\">Data Science Lead / Manager - Product based eCommerce Company (MNC)</a>,\n",
       " <a class=\"title ellipsis\" href=\"https://www.naukri.com/job-listings-manager-data-science-analytics-novartis-healthcare-pvt-ltd-hyderabad-secunderabad-10-to-15-years-230223502868\" target=\"_blank\" title=\"Manager- Data Science &amp; Analytics\">Manager- Data Science &amp; Analytics</a>,\n",
       " <a class=\"title ellipsis\" href=\"https://www.naukri.com/job-listings-senior-analyst-analytics-and-data-science-everquote-remote-3-to-7-years-270223502546\" target=\"_blank\" title=\"Senior Analyst, Analytics and Data Science\">Senior Analyst, Analytics and Data Science</a>,\n",
       " <a class=\"title ellipsis\" href=\"https://www.naukri.com/job-listings-p02-sr-data-science-analyst-transunion-software-services-pvt-ltd-chennai-7-to-10-years-070323501772\" target=\"_blank\" title=\"P02 - Sr Data Science Analyst\">P02 - Sr Data Science Analyst</a>,\n",
       " <a class=\"title ellipsis\" href=\"https://www.naukri.com/job-listings-data-science-analyst-kireeti-consultants-hyderabad-secunderabad-2-to-6-years-211122002831\" target=\"_blank\" title=\"Data Science Analyst\">Data Science Analyst</a>,\n",
       " <a class=\"title ellipsis\" href=\"https://www.naukri.com/job-listings-data-science-lead-cliqhr-mumbai-hyderabad-secunderabad-pune-chennai-delhi-ncr-5-to-10-years-230223910676\" target=\"_blank\" title=\"Data Science Lead\">Data Science Lead</a>,\n",
       " <a class=\"title ellipsis\" href=\"https://www.naukri.com/job-listings-data-science-lead-cliqhr-mumbai-hyderabad-secunderabad-pune-chennai-delhi-ncr-5-to-5-years-230223911307\" target=\"_blank\" title=\"Data Science Lead\">Data Science Lead</a>,\n",
       " <a class=\"title ellipsis\" href=\"https://www.naukri.com/job-listings-python-data-science-analyst-infosys-limited-bhubaneswar-3-to-5-years-060323902597\" target=\"_blank\" title=\"Python - Data Science Analyst\">Python - Data Science Analyst</a>,\n",
       " <a class=\"title ellipsis\" href=\"https://www.naukri.com/job-listings-data-science-analyst-shell-india-markets-private-limited-chennai-2-to-5-years-010323912857\" target=\"_blank\" title=\"Data Science Analyst\">Data Science Analyst</a>,\n",
       " <a class=\"title ellipsis\" href=\"https://www.naukri.com/job-listings-data-science-analyst-shell-india-markets-private-limited-chennai-2-to-5-years-010323908373\" target=\"_blank\" title=\"Data Science Analyst\">Data Science Analyst</a>,\n",
       " <a class=\"title ellipsis\" href=\"https://www.naukri.com/job-listings-manager-data-science-optum-global-solutions-india-private-limited-noida-5-to-7-years-070323904689\" target=\"_blank\" title=\"Manager Data Science\">Manager Data Science</a>,\n",
       " <a class=\"title ellipsis\" href=\"https://www.naukri.com/job-listings-senior-lead-analyst-data-science-infosys-bpm-pune-bangalore-bengaluru-3-to-8-years-220223009757\" target=\"_blank\" title=\"Senior Lead Analyst- Data Science\">Senior Lead Analyst- Data Science</a>,\n",
       " <a class=\"title ellipsis\" href=\"https://www.naukri.com/job-listings-senior-analyst-data-science-tiger-analytics-chennai-0-to-4-years-150223501120\" target=\"_blank\" title=\"Senior Analyst - Data Science\">Senior Analyst - Data Science</a>,\n",
       " <a class=\"title ellipsis\" href=\"https://www.naukri.com/job-listings-senior-analyst-data-science-tiger-analytics-chennai-0-to-4-years-141222502588\" target=\"_blank\" title=\"Senior Analyst - Data Science\">Senior Analyst - Data Science</a>,\n",
       " <a class=\"title ellipsis\" href=\"https://www.naukri.com/job-listings-specialist-data-analytics-statistical-analysis-non-data-science-gartner-india-research-advisory-services-pvt-ltd-gurgaon-gurugram-0-to-3-years-310123500074\" target=\"_blank\" title=\"Specialist- Data Analytics (Statistical Analysis &amp; Non Data Science)\">Specialist- Data Analytics (Statistical Analysis &amp; Non Data Science)</a>,\n",
       " <a class=\"title ellipsis\" href=\"https://www.naukri.com/job-listings-diageo-data-science-analyst-specialist-bengaluru-diageo-bangalore-bengaluru-2-to-7-years-240223006711\" target=\"_blank\" title=\"Diageo - Data Science Analyst/Specialist- Bengaluru\">Diageo - Data Science Analyst/Specialist- Bengaluru</a>]"
      ]
     },
     "execution_count": 6,
     "metadata": {},
     "output_type": "execute_result"
    }
   ],
   "source": [
    "# position  #select() method to locate all elements of a particular CSS class\n",
    "soup.select('a.title.ellipsis')"
   ]
  },
  {
   "cell_type": "code",
   "execution_count": 7,
   "metadata": {},
   "outputs": [
    {
     "data": {
      "text/plain": [
       "'Data Science Professional'"
      ]
     },
     "execution_count": 7,
     "metadata": {},
     "output_type": "execute_result"
    }
   ],
   "source": [
    "soup.select('a.title.ellipsis')[0].text"
   ]
  },
  {
   "cell_type": "code",
   "execution_count": 10,
   "metadata": {
    "collapsed": true
   },
   "outputs": [
    {
     "data": {
      "text/plain": [
       "['Data Science Professional',\n",
       " 'Job opening For Data Engineer(Data Science/ML/Analytics@ GD(Hyd)',\n",
       " 'Senior Analyst, Data Science & Analytics',\n",
       " 'Analyst Data Science',\n",
       " 'Data Science Analyst',\n",
       " 'Data Science Lead / Manager - Product based eCommerce Company (MNC)',\n",
       " 'Manager- Data Science & Analytics',\n",
       " 'Senior Analyst, Analytics and Data Science',\n",
       " 'P02 - Sr Data Science Analyst',\n",
       " 'Data Science Analyst',\n",
       " 'Data Science Lead',\n",
       " 'Data Science Lead',\n",
       " 'Python - Data Science Analyst',\n",
       " 'Data Science Analyst',\n",
       " 'Data Science Analyst',\n",
       " 'Manager Data Science',\n",
       " 'Senior Lead Analyst- Data Science',\n",
       " 'Senior Analyst - Data Science',\n",
       " 'Senior Analyst - Data Science',\n",
       " 'Specialist- Data Analytics (Statistical Analysis & Non Data Science)',\n",
       " 'Diageo - Data Science Analyst/Specialist- Bengaluru']"
      ]
     },
     "execution_count": 10,
     "metadata": {},
     "output_type": "execute_result"
    }
   ],
   "source": [
    "# List comprehension\n",
    "Position=[i.text for i in soup.select(\"a.title.ellipsis\")]\n",
    "Position"
   ]
  },
  {
   "cell_type": "code",
   "execution_count": 12,
   "metadata": {
    "collapsed": true
   },
   "outputs": [
    {
     "data": {
      "text/plain": [
       "['AKN It Services',\n",
       " 'Globaldata',\n",
       " 'Transunion',\n",
       " 'Navit Software Solutions',\n",
       " 'Shell Pvt Ltd',\n",
       " 'Contrado Imaging India Pvt Ltd',\n",
       " 'Novartis',\n",
       " 'Everquote',\n",
       " 'Transunion',\n",
       " 'Kireeti Consultants',\n",
       " 'Cliqhr',\n",
       " 'Cliqhr',\n",
       " 'Infosys',\n",
       " 'Shell',\n",
       " 'Shell',\n",
       " 'Optum',\n",
       " 'Infosys BPM',\n",
       " 'Tiger Analytics',\n",
       " 'Tiger Analytics',\n",
       " 'Gartner',\n",
       " 'Diageo']"
      ]
     },
     "execution_count": 12,
     "metadata": {},
     "output_type": "execute_result"
    }
   ],
   "source": [
    "company=[i.text for i in soup.select(\"a.subTitle.ellipsis.fleft\")]\n",
    "company"
   ]
  },
  {
   "cell_type": "code",
   "execution_count": null,
   "metadata": {},
   "outputs": [],
   "source": [
    "#Using selenium\n",
    "#subtitle\n",
    "#string patterns used to identify an element based on a combination of HTML tag, \n",
    "#id, class, and attributes.\n",
    "#browser.find_elements(by='css selector',value='tag.classname')[0].text"
   ]
  },
  {
   "cell_type": "code",
   "execution_count": 13,
   "metadata": {},
   "outputs": [
    {
     "data": {
      "text/plain": [
       "'AKN It Services'"
      ]
     },
     "execution_count": 13,
     "metadata": {},
     "output_type": "execute_result"
    }
   ],
   "source": [
    "browser.find_elements(by='css selector',value='a.subTitle.ellipsis.fleft')[0].text"
   ]
  },
  {
   "cell_type": "code",
   "execution_count": 18,
   "metadata": {},
   "outputs": [
    {
     "data": {
      "text/plain": [
       "'0-1 Yrs'"
      ]
     },
     "execution_count": 18,
     "metadata": {},
     "output_type": "execute_result"
    }
   ],
   "source": [
    "#years\n",
    "soup.find_all('span',class_='ellipsis fleft expwdth')[0].text\n",
    "#soup.find_all('ul',class_='ellipsis fleft expwdth')[0].find_all(\"li\")[0].text"
   ]
  },
  {
   "cell_type": "code",
   "execution_count": 15,
   "metadata": {},
   "outputs": [
    {
     "data": {
      "text/plain": [
       "'Chennai'"
      ]
     },
     "execution_count": 15,
     "metadata": {},
     "output_type": "execute_result"
    }
   ],
   "source": [
    "#location\n",
    "soup.find_all('span',class_='ellipsis fleft locWdth')[0].text\n",
    "#soup.find_all('ul',class_='mt-7')[0].find_all(\"li\")[2].text"
   ]
  },
  {
   "cell_type": "code",
   "execution_count": 16,
   "metadata": {},
   "outputs": [],
   "source": [
    "import pandas as pd\n",
    "def get_table(soup):\n",
    "    titles=[i.text for i in soup.select(\"a.title.ellipsis\")]\n",
    "    company=[i.text for i in soup.select(\"a.subTitle.ellipsis.fleft\")]\n",
    "    exp=[i.text for i in soup.select(\"span.ellipsis.fleft.expwdth\")]\n",
    "    loc=[i.text for i in soup.select(\"span.ellipsis.fleft.locWdth\")]\n",
    "    table=pd.DataFrame({'title':titles,'company':company,'Exp':exp,'location':loc})\n",
    "    return table\n",
    "    "
   ]
  },
  {
   "cell_type": "code",
   "execution_count": 17,
   "metadata": {
    "collapsed": true
   },
   "outputs": [
    {
     "data": {
      "text/html": [
       "<div>\n",
       "<style scoped>\n",
       "    .dataframe tbody tr th:only-of-type {\n",
       "        vertical-align: middle;\n",
       "    }\n",
       "\n",
       "    .dataframe tbody tr th {\n",
       "        vertical-align: top;\n",
       "    }\n",
       "\n",
       "    .dataframe thead th {\n",
       "        text-align: right;\n",
       "    }\n",
       "</style>\n",
       "<table border=\"1\" class=\"dataframe\">\n",
       "  <thead>\n",
       "    <tr style=\"text-align: right;\">\n",
       "      <th></th>\n",
       "      <th>title</th>\n",
       "      <th>company</th>\n",
       "      <th>Exp</th>\n",
       "      <th>location</th>\n",
       "    </tr>\n",
       "  </thead>\n",
       "  <tbody>\n",
       "    <tr>\n",
       "      <th>0</th>\n",
       "      <td>Data Science Professional</td>\n",
       "      <td>AKN It Services</td>\n",
       "      <td>0-1 Yrs</td>\n",
       "      <td>Chennai</td>\n",
       "    </tr>\n",
       "    <tr>\n",
       "      <th>1</th>\n",
       "      <td>Job opening For Data Engineer(Data Science/ML/...</td>\n",
       "      <td>Globaldata</td>\n",
       "      <td>1-3 Yrs</td>\n",
       "      <td>Hybrid - Hyderabad/Secunderabad(Kondapur)</td>\n",
       "    </tr>\n",
       "    <tr>\n",
       "      <th>2</th>\n",
       "      <td>Senior Analyst, Data Science &amp; Analytics</td>\n",
       "      <td>Transunion</td>\n",
       "      <td>5-8 Yrs</td>\n",
       "      <td>Pune</td>\n",
       "    </tr>\n",
       "    <tr>\n",
       "      <th>3</th>\n",
       "      <td>Analyst Data Science</td>\n",
       "      <td>Navit Software Solutions</td>\n",
       "      <td>3-7 Yrs</td>\n",
       "      <td>Kolkata, Mumbai, New Delhi, Hyderabad/Secunder...</td>\n",
       "    </tr>\n",
       "    <tr>\n",
       "      <th>4</th>\n",
       "      <td>Data Science Analyst</td>\n",
       "      <td>Shell Pvt Ltd</td>\n",
       "      <td>2-5 Yrs</td>\n",
       "      <td>Chennai</td>\n",
       "    </tr>\n",
       "    <tr>\n",
       "      <th>5</th>\n",
       "      <td>Data Science Lead / Manager - Product based eC...</td>\n",
       "      <td>Contrado Imaging India Pvt Ltd</td>\n",
       "      <td>5-10 Yrs</td>\n",
       "      <td>Hybrid - Ahmedabad</td>\n",
       "    </tr>\n",
       "    <tr>\n",
       "      <th>6</th>\n",
       "      <td>Manager- Data Science &amp; Analytics</td>\n",
       "      <td>Novartis</td>\n",
       "      <td>10-15 Yrs</td>\n",
       "      <td>Hyderabad/Secunderabad</td>\n",
       "    </tr>\n",
       "    <tr>\n",
       "      <th>7</th>\n",
       "      <td>Senior Analyst, Analytics and Data Science</td>\n",
       "      <td>Everquote</td>\n",
       "      <td>3-7 Yrs</td>\n",
       "      <td>Permanent Remote</td>\n",
       "    </tr>\n",
       "    <tr>\n",
       "      <th>8</th>\n",
       "      <td>P02 - Sr Data Science Analyst</td>\n",
       "      <td>Transunion</td>\n",
       "      <td>7-10 Yrs</td>\n",
       "      <td>Chennai</td>\n",
       "    </tr>\n",
       "    <tr>\n",
       "      <th>9</th>\n",
       "      <td>Data Science Analyst</td>\n",
       "      <td>Kireeti Consultants</td>\n",
       "      <td>2-6 Yrs</td>\n",
       "      <td>Hyderabad/Secunderabad(Erragadda +1)</td>\n",
       "    </tr>\n",
       "    <tr>\n",
       "      <th>10</th>\n",
       "      <td>Data Science Lead</td>\n",
       "      <td>Cliqhr</td>\n",
       "      <td>5-10 Yrs</td>\n",
       "      <td>Mumbai, Hyderabad/Secunderabad, Pune, Chennai,...</td>\n",
       "    </tr>\n",
       "    <tr>\n",
       "      <th>11</th>\n",
       "      <td>Data Science Lead</td>\n",
       "      <td>Cliqhr</td>\n",
       "      <td>5-5 Yrs</td>\n",
       "      <td>Mumbai, Hyderabad/Secunderabad, Pune, Chennai,...</td>\n",
       "    </tr>\n",
       "    <tr>\n",
       "      <th>12</th>\n",
       "      <td>Python - Data Science Analyst</td>\n",
       "      <td>Infosys</td>\n",
       "      <td>3-5 Yrs</td>\n",
       "      <td>Bhubaneswar</td>\n",
       "    </tr>\n",
       "    <tr>\n",
       "      <th>13</th>\n",
       "      <td>Data Science Analyst</td>\n",
       "      <td>Shell</td>\n",
       "      <td>2-5 Yrs</td>\n",
       "      <td>Chennai</td>\n",
       "    </tr>\n",
       "    <tr>\n",
       "      <th>14</th>\n",
       "      <td>Data Science Analyst</td>\n",
       "      <td>Shell</td>\n",
       "      <td>2-5 Yrs</td>\n",
       "      <td>Chennai</td>\n",
       "    </tr>\n",
       "    <tr>\n",
       "      <th>15</th>\n",
       "      <td>Manager Data Science</td>\n",
       "      <td>Optum</td>\n",
       "      <td>5-7 Yrs</td>\n",
       "      <td>Noida</td>\n",
       "    </tr>\n",
       "    <tr>\n",
       "      <th>16</th>\n",
       "      <td>Senior Lead Analyst- Data Science</td>\n",
       "      <td>Infosys BPM</td>\n",
       "      <td>3-8 Yrs</td>\n",
       "      <td>Pune, Bangalore/Bengaluru</td>\n",
       "    </tr>\n",
       "    <tr>\n",
       "      <th>17</th>\n",
       "      <td>Senior Analyst - Data Science</td>\n",
       "      <td>Tiger Analytics</td>\n",
       "      <td>0-4 Yrs</td>\n",
       "      <td>Chennai</td>\n",
       "    </tr>\n",
       "    <tr>\n",
       "      <th>18</th>\n",
       "      <td>Senior Analyst - Data Science</td>\n",
       "      <td>Tiger Analytics</td>\n",
       "      <td>0-4 Yrs</td>\n",
       "      <td>Chennai</td>\n",
       "    </tr>\n",
       "    <tr>\n",
       "      <th>19</th>\n",
       "      <td>Specialist- Data Analytics (Statistical Analys...</td>\n",
       "      <td>Gartner</td>\n",
       "      <td>0-3 Yrs</td>\n",
       "      <td>Gurgaon/Gurugram</td>\n",
       "    </tr>\n",
       "    <tr>\n",
       "      <th>20</th>\n",
       "      <td>Diageo - Data Science Analyst/Specialist- Beng...</td>\n",
       "      <td>Diageo</td>\n",
       "      <td>2-7 Yrs</td>\n",
       "      <td>Bangalore/Bengaluru</td>\n",
       "    </tr>\n",
       "  </tbody>\n",
       "</table>\n",
       "</div>"
      ],
      "text/plain": [
       "                                                title  \\\n",
       "0                           Data Science Professional   \n",
       "1   Job opening For Data Engineer(Data Science/ML/...   \n",
       "2            Senior Analyst, Data Science & Analytics   \n",
       "3                                Analyst Data Science   \n",
       "4                                Data Science Analyst   \n",
       "5   Data Science Lead / Manager - Product based eC...   \n",
       "6                   Manager- Data Science & Analytics   \n",
       "7          Senior Analyst, Analytics and Data Science   \n",
       "8                       P02 - Sr Data Science Analyst   \n",
       "9                                Data Science Analyst   \n",
       "10                                  Data Science Lead   \n",
       "11                                  Data Science Lead   \n",
       "12                      Python - Data Science Analyst   \n",
       "13                               Data Science Analyst   \n",
       "14                               Data Science Analyst   \n",
       "15                               Manager Data Science   \n",
       "16                  Senior Lead Analyst- Data Science   \n",
       "17                      Senior Analyst - Data Science   \n",
       "18                      Senior Analyst - Data Science   \n",
       "19  Specialist- Data Analytics (Statistical Analys...   \n",
       "20  Diageo - Data Science Analyst/Specialist- Beng...   \n",
       "\n",
       "                           company        Exp  \\\n",
       "0                  AKN It Services    0-1 Yrs   \n",
       "1                       Globaldata    1-3 Yrs   \n",
       "2                       Transunion    5-8 Yrs   \n",
       "3         Navit Software Solutions    3-7 Yrs   \n",
       "4                    Shell Pvt Ltd    2-5 Yrs   \n",
       "5   Contrado Imaging India Pvt Ltd   5-10 Yrs   \n",
       "6                         Novartis  10-15 Yrs   \n",
       "7                        Everquote    3-7 Yrs   \n",
       "8                       Transunion   7-10 Yrs   \n",
       "9              Kireeti Consultants    2-6 Yrs   \n",
       "10                          Cliqhr   5-10 Yrs   \n",
       "11                          Cliqhr    5-5 Yrs   \n",
       "12                         Infosys    3-5 Yrs   \n",
       "13                           Shell    2-5 Yrs   \n",
       "14                           Shell    2-5 Yrs   \n",
       "15                           Optum    5-7 Yrs   \n",
       "16                     Infosys BPM    3-8 Yrs   \n",
       "17                 Tiger Analytics    0-4 Yrs   \n",
       "18                 Tiger Analytics    0-4 Yrs   \n",
       "19                         Gartner    0-3 Yrs   \n",
       "20                          Diageo    2-7 Yrs   \n",
       "\n",
       "                                             location  \n",
       "0                                             Chennai  \n",
       "1           Hybrid - Hyderabad/Secunderabad(Kondapur)  \n",
       "2                                                Pune  \n",
       "3   Kolkata, Mumbai, New Delhi, Hyderabad/Secunder...  \n",
       "4                                             Chennai  \n",
       "5                                  Hybrid - Ahmedabad  \n",
       "6                              Hyderabad/Secunderabad  \n",
       "7                                    Permanent Remote  \n",
       "8                                             Chennai  \n",
       "9                Hyderabad/Secunderabad(Erragadda +1)  \n",
       "10  Mumbai, Hyderabad/Secunderabad, Pune, Chennai,...  \n",
       "11  Mumbai, Hyderabad/Secunderabad, Pune, Chennai,...  \n",
       "12                                        Bhubaneswar  \n",
       "13                                            Chennai  \n",
       "14                                            Chennai  \n",
       "15                                              Noida  \n",
       "16                          Pune, Bangalore/Bengaluru  \n",
       "17                                            Chennai  \n",
       "18                                            Chennai  \n",
       "19                                   Gurgaon/Gurugram  \n",
       "20                                Bangalore/Bengaluru  "
      ]
     },
     "execution_count": 17,
     "metadata": {},
     "output_type": "execute_result"
    }
   ],
   "source": [
    "get_table(soup)"
   ]
  },
  {
   "cell_type": "code",
   "execution_count": 19,
   "metadata": {},
   "outputs": [],
   "source": [
    "stub='https://www.naukri.com/data-science-jobs-{}?k=data%20science'"
   ]
  },
  {
   "cell_type": "code",
   "execution_count": 20,
   "metadata": {},
   "outputs": [
    {
     "data": {
      "text/plain": [
       "'https://www.naukri.com/data-science-jobs-3?k=data%20science'"
      ]
     },
     "execution_count": 20,
     "metadata": {},
     "output_type": "execute_result"
    }
   ],
   "source": [
    "stub.format(3)"
   ]
  },
  {
   "cell_type": "code",
   "execution_count": 21,
   "metadata": {},
   "outputs": [],
   "source": [
    "import time\n",
    "Tables=[]\n",
    "for i in range(1,10):\n",
    "    url=stub.format(i)\n",
    "    browser.get(url)\n",
    "    time.sleep(2) #suspends (waits) execution of the current thread for a given number of seconds\n",
    "    html=browser.page_source\n",
    "    soup=BeautifulSoup(html,\"html.parser\")\n",
    "    Tables.append(get_table(soup))"
   ]
  },
  {
   "cell_type": "code",
   "execution_count": null,
   "metadata": {},
   "outputs": [],
   "source": [
    "df=pd.concat(Tables,axis=0)\n",
    "df.shape"
   ]
  },
  {
   "cell_type": "code",
   "execution_count": null,
   "metadata": {},
   "outputs": [],
   "source": [
    "df.head()"
   ]
  },
  {
   "cell_type": "markdown",
   "metadata": {},
   "source": [
    "---------------------------------------------End ---------------------------------------------------"
   ]
  }
 ],
 "metadata": {
  "kernelspec": {
   "display_name": "Python 3 (ipykernel)",
   "language": "python",
   "name": "python3"
  },
  "language_info": {
   "codemirror_mode": {
    "name": "ipython",
    "version": 3
   },
   "file_extension": ".py",
   "mimetype": "text/x-python",
   "name": "python",
   "nbconvert_exporter": "python",
   "pygments_lexer": "ipython3",
   "version": "3.9.13"
  }
 },
 "nbformat": 4,
 "nbformat_minor": 4
}
