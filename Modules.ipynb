{
 "cells": [
  {
   "cell_type": "markdown",
   "id": "ad44c0d0",
   "metadata": {},
   "source": [
    "### Modules &  Packages"
   ]
  },
  {
   "cell_type": "markdown",
   "id": "edca5b4b",
   "metadata": {},
   "source": [
    "A Python module is a file containing Python definitions and statements. \n",
    "A module can define functions, classes, and variables. \n",
    "A module can also include runnable code. \n",
    "Grouping related code into a module makes the code easier to understand and use. \n",
    "It also makes the code logically organized."
   ]
  },
  {
   "cell_type": "markdown",
   "id": "3f7d2151",
   "metadata": {},
   "source": [
    "Packages allow you to organize modules in the hierarchical structure.\n",
    "\n",
    "The way Python organizes packages and modules like the Operating System structures the folders and files."
   ]
  },
  {
   "cell_type": "markdown",
   "id": "46b3b183",
   "metadata": {},
   "source": [
    "#### .py extension\n",
    "#### the module contains,\n",
    "  - Definitions and implementation of classes\n",
    "  \n",
    "  - variables\n",
    "    \n",
    "  - Functions that can be used inside another program  "
   ]
  },
  {
   "cell_type": "markdown",
   "id": "b8bc97d4",
   "metadata": {},
   "source": [
    "##### To import a package, you use the import statement like this:\n",
    "\n",
    "import package.module\n",
    "\n",
    "##### To access an object from a module that belongs to a package, you use the dot notation:\n",
    "\n",
    "package.module.function\n",
    "\n",
    "##### To make the code more concise, you can use the following statement to import a function \n",
    "##### from a module:\n",
    "\n",
    "from <module> import <function>"
   ]
  },
  {
   "cell_type": "code",
   "execution_count": null,
   "id": "35265a69",
   "metadata": {},
   "outputs": [],
   "source": [
    "#### Create a module"
   ]
  },
  {
   "cell_type": "code",
   "execution_count": null,
   "id": "d7d4ab22",
   "metadata": {},
   "outputs": [],
   "source": [
    "#### create a file with extension .py\n",
    "### create mymodule.py"
   ]
  },
  {
   "cell_type": "code",
   "execution_count": null,
   "id": "0e18e9a7",
   "metadata": {},
   "outputs": [],
   "source": [
    "# using 'import'keyword to import module\n",
    "import mymodule"
   ]
  },
  {
   "cell_type": "code",
   "execution_count": null,
   "id": "d0d5999d",
   "metadata": {},
   "outputs": [],
   "source": [
    "mymodule.welcome(\"ggg\")"
   ]
  },
  {
   "cell_type": "code",
   "execution_count": null,
   "id": "2a3af9c8",
   "metadata": {},
   "outputs": [],
   "source": [
    "# create module2.py\n",
    "import module2"
   ]
  },
  {
   "cell_type": "code",
   "execution_count": null,
   "id": "6e2cd17b",
   "metadata": {},
   "outputs": [],
   "source": [
    "module2.person"
   ]
  },
  {
   "cell_type": "code",
   "execution_count": null,
   "id": "33323fae",
   "metadata": {},
   "outputs": [],
   "source": [
    "# instead of dictionary can use list object\n",
    "# create module 'module2.py' and create list object instead of dictionary\n",
    "import module2\n",
    "module2.person[1] # extract 2nd element(age)"
   ]
  },
  {
   "cell_type": "code",
   "execution_count": 1,
   "id": "60fae8fa",
   "metadata": {},
   "outputs": [
    {
     "name": "stdout",
     "output_type": "stream",
     "text": [
      "name ram\n",
      "age 34\n"
     ]
    }
   ],
   "source": [
    "import module3\n",
    "module3.person('ram',34)"
   ]
  },
  {
   "cell_type": "code",
   "execution_count": null,
   "id": "dfb981e9",
   "metadata": {},
   "outputs": [],
   "source": [
    "### Built - in - Modules"
   ]
  },
  {
   "cell_type": "code",
   "execution_count": null,
   "id": "4dda17b2",
   "metadata": {},
   "outputs": [],
   "source": [
    "help('modules')"
   ]
  },
  {
   "cell_type": "code",
   "execution_count": null,
   "id": "5e9d1e54",
   "metadata": {},
   "outputs": [],
   "source": [
    "# math \n",
    "# statistics\n",
    "# sys\n",
    "# os\n",
    "# time\n",
    "# pickle\n",
    "# csv\n",
    "# datetime\n",
    "# random"
   ]
  },
  {
   "cell_type": "code",
   "execution_count": null,
   "id": "21fe7e75",
   "metadata": {},
   "outputs": [],
   "source": [
    "#math\n",
    "import math\n",
    "math.sqrt(3)"
   ]
  },
  {
   "cell_type": "code",
   "execution_count": null,
   "id": "e8c8cb2d",
   "metadata": {},
   "outputs": [],
   "source": [
    "math.pi"
   ]
  },
  {
   "cell_type": "code",
   "execution_count": null,
   "id": "c8add20d",
   "metadata": {},
   "outputs": [],
   "source": [
    "math.radians(30)"
   ]
  },
  {
   "cell_type": "code",
   "execution_count": null,
   "id": "99060073",
   "metadata": {},
   "outputs": [],
   "source": [
    "# statistics\n",
    "import statistics\n",
    "statistics.mean([2,5,6,9])"
   ]
  },
  {
   "cell_type": "code",
   "execution_count": null,
   "id": "ea8eabc5",
   "metadata": {},
   "outputs": [],
   "source": [
    "statistics.median([2,5,6,9])"
   ]
  },
  {
   "cell_type": "code",
   "execution_count": null,
   "id": "edd19515",
   "metadata": {},
   "outputs": [],
   "source": [
    "statistics.stdev([2,5,6,9])"
   ]
  },
  {
   "cell_type": "code",
   "execution_count": null,
   "id": "5571ec4e",
   "metadata": {},
   "outputs": [],
   "source": [
    "# os\n",
    "import os\n",
    "#view working directory\n",
    "os.getcwd()"
   ]
  },
  {
   "cell_type": "code",
   "execution_count": null,
   "id": "3c67f413",
   "metadata": {},
   "outputs": [],
   "source": [
    "# changing working directory\n",
    "os.chdir(\"D://Files\")"
   ]
  },
  {
   "cell_type": "code",
   "execution_count": null,
   "id": "50c8afce",
   "metadata": {},
   "outputs": [],
   "source": [
    "os.getcwd()"
   ]
  },
  {
   "cell_type": "code",
   "execution_count": null,
   "id": "5b454961",
   "metadata": {},
   "outputs": [],
   "source": [
    "#make directory\n",
    "os.mkdir(\"New345\")"
   ]
  },
  {
   "cell_type": "code",
   "execution_count": null,
   "id": "bd3e55dd",
   "metadata": {},
   "outputs": [],
   "source": [
    "#random\n",
    "import random\n",
    "#generate random floats\n",
    "random.random()"
   ]
  },
  {
   "cell_type": "code",
   "execution_count": null,
   "id": "6f635141",
   "metadata": {},
   "outputs": [],
   "source": [
    "# generate random integers\n",
    "random.randint(1,100)"
   ]
  },
  {
   "cell_type": "code",
   "execution_count": null,
   "id": "99ce283d",
   "metadata": {},
   "outputs": [],
   "source": [
    "#select random elements\n",
    "random.choice('computer')"
   ]
  },
  {
   "cell_type": "code",
   "execution_count": null,
   "id": "7c47ffd7",
   "metadata": {},
   "outputs": [],
   "source": [
    "#generate random numbers within range\n",
    "x=random.randrange(1,10,2) # (start,stop,step)[1,3,5,7,9]\n",
    "x\n",
    "# random.randrange(1,10) # by default skip =1--> contains all the numbers between 1 to 10."
   ]
  },
  {
   "cell_type": "code",
   "execution_count": null,
   "id": "c64e223c",
   "metadata": {},
   "outputs": [],
   "source": [
    "from datetime import date\n",
    "today = date.today()\n",
    "print(\"Today's date:\", today)"
   ]
  },
  {
   "cell_type": "markdown",
   "id": "7d5f96ac",
   "metadata": {},
   "source": [
    "#### Modules Vs Packages"
   ]
  },
  {
   "cell_type": "code",
   "execution_count": 2,
   "id": "97008425",
   "metadata": {
    "collapsed": true
   },
   "outputs": [
    {
     "name": "stdout",
     "output_type": "stream",
     "text": [
      "Requirement already satisfied: MyPackage in c:\\users\\nithyalakshmim\\anaconda\\lib\\site-packages (0.1)\n",
      "Requirement already satisfied: cmd2 in c:\\users\\nithyalakshmim\\anaconda\\lib\\site-packages (from MyPackage) (2.4.3)\n",
      "Requirement already satisfied: attrs>=16.3.0 in c:\\users\\nithyalakshmim\\anaconda\\lib\\site-packages (from cmd2->MyPackage) (21.4.0)\n",
      "Requirement already satisfied: wcwidth>=0.1.7 in c:\\users\\nithyalakshmim\\anaconda\\lib\\site-packages (from cmd2->MyPackage) (0.2.5)\n",
      "Requirement already satisfied: pyreadline3 in c:\\users\\nithyalakshmim\\anaconda\\lib\\site-packages (from cmd2->MyPackage) (3.4.1)\n",
      "Requirement already satisfied: pyperclip>=1.6 in c:\\users\\nithyalakshmim\\anaconda\\lib\\site-packages (from cmd2->MyPackage) (1.8.2)\n"
     ]
    },
    {
     "name": "stderr",
     "output_type": "stream",
     "text": [
      "\n",
      "[notice] A new release of pip is available: 23.0 -> 23.0.1\n",
      "[notice] To update, run: python.exe -m pip install --upgrade pip\n"
     ]
    }
   ],
   "source": [
    "!pip install MyPackage\n",
    "# !conda install MyPackage"
   ]
  },
  {
   "cell_type": "code",
   "execution_count": 3,
   "id": "6035a8a8",
   "metadata": {},
   "outputs": [],
   "source": [
    "from MyPackage import mymodule"
   ]
  },
  {
   "cell_type": "code",
   "execution_count": 4,
   "id": "c1b46a55",
   "metadata": {},
   "outputs": [
    {
     "name": "stdout",
     "output_type": "stream",
     "text": [
      "Hello renu\n"
     ]
    }
   ],
   "source": [
    "mymodule.welcome('renu')"
   ]
  },
  {
   "cell_type": "markdown",
   "id": "1fbeec82",
   "metadata": {},
   "source": [
    "Module: The module is a simple Python file that contains collections of functions and global variables and with having a .py extension file. It is an executable file and to organize all the modules we have the concept called Package in Python.\n",
    "\n",
    "Package: The package is a simple directory having collections of modules. This directory contains Python modules and also having __init__.py file by which the interpreter interprets it as a Package. The package is simply a namespace. The package also contains sub-packages inside it."
   ]
  }
 ],
 "metadata": {
  "kernelspec": {
   "display_name": "Python 3 (ipykernel)",
   "language": "python",
   "name": "python3"
  },
  "language_info": {
   "codemirror_mode": {
    "name": "ipython",
    "version": 3
   },
   "file_extension": ".py",
   "mimetype": "text/x-python",
   "name": "python",
   "nbconvert_exporter": "python",
   "pygments_lexer": "ipython3",
   "version": "3.9.13"
  }
 },
 "nbformat": 4,
 "nbformat_minor": 5
}
