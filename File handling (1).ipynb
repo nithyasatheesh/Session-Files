{
 "cells": [
  {
   "cell_type": "markdown",
   "id": "0221b6f2",
   "metadata": {},
   "source": [
    "### File handling\n",
    "\n",
    "- Opening files\n",
    "- Text vs Binary mode\n",
    "- Text and Binary files"
   ]
  },
  {
   "cell_type": "code",
   "execution_count": null,
   "id": "3fda30df",
   "metadata": {},
   "outputs": [],
   "source": [
    "## Opening files in Python\n",
    "# open() \n",
    "#f=open(\"sample1.txt\")  # open file in current directory , read mode\n",
    "f=open(\"D://Files//sample1.txt\") # specify full path"
   ]
  },
  {
   "cell_type": "markdown",
   "id": "b3c2eb2d",
   "metadata": {},
   "source": [
    "Mode\n",
    "\n",
    "r opens a file for reading\n",
    "\n",
    "w opens a file for writing\n",
    "\n",
    "a opens a file for appending at the end of the file\n",
    "\n",
    "t opens in text mode\n",
    "\n",
    "b opens in binary mode"
   ]
  },
  {
   "cell_type": "code",
   "execution_count": null,
   "id": "b5926ba4",
   "metadata": {},
   "outputs": [],
   "source": [
    "f.close()"
   ]
  },
  {
   "cell_type": "code",
   "execution_count": null,
   "id": "b291d27a",
   "metadata": {},
   "outputs": [],
   "source": [
    "f=open(\"D://Files//sample.txt\",'r')\n",
    "f.read()"
   ]
  },
  {
   "cell_type": "code",
   "execution_count": null,
   "id": "614cb893",
   "metadata": {},
   "outputs": [],
   "source": [
    "f.close()"
   ]
  },
  {
   "cell_type": "code",
   "execution_count": null,
   "id": "4a61fde8",
   "metadata": {},
   "outputs": [],
   "source": [
    "g=open(\"newfile.txt\",'w')\n",
    "g.write(\"Welcome to the Program\")\n",
    "g.close()"
   ]
  },
  {
   "cell_type": "code",
   "execution_count": null,
   "id": "2e5f707e",
   "metadata": {},
   "outputs": [],
   "source": [
    "g=open(\"newfile.txt\",'r')\n",
    "g.read()"
   ]
  },
  {
   "cell_type": "code",
   "execution_count": null,
   "id": "78b505e9",
   "metadata": {},
   "outputs": [],
   "source": [
    "g.close()"
   ]
  },
  {
   "cell_type": "code",
   "execution_count": null,
   "id": "b48cfef0",
   "metadata": {},
   "outputs": [],
   "source": [
    "g=open(\"newfile.txt\",'a')\n",
    "g.write(\"New file created\")\n",
    "g.close()"
   ]
  },
  {
   "cell_type": "code",
   "execution_count": null,
   "id": "f4e7c136",
   "metadata": {},
   "outputs": [],
   "source": [
    "g=open(\"newfile.txt\",'r')\n",
    "g.read()"
   ]
  },
  {
   "cell_type": "code",
   "execution_count": null,
   "id": "7d2e3e58",
   "metadata": {},
   "outputs": [],
   "source": [
    "g.close()"
   ]
  },
  {
   "cell_type": "code",
   "execution_count": null,
   "id": "50e5e980",
   "metadata": {},
   "outputs": [],
   "source": [
    "x=open(\"D://Files//sample.txt\",'w+')\n",
    "x.read()\n",
    "x.write(\"sssss\")"
   ]
  },
  {
   "cell_type": "code",
   "execution_count": null,
   "id": "18af017a",
   "metadata": {},
   "outputs": [],
   "source": [
    "x.close()"
   ]
  },
  {
   "cell_type": "code",
   "execution_count": null,
   "id": "4f1b4f81",
   "metadata": {},
   "outputs": [],
   "source": [
    "# with open()\n",
    "with open(\"D://Files//newsample2.txt\",'w') as g:\n",
    "    g.write(\"myfirst file\\n\")\n",
    "    g.write(\"This file\\n\")"
   ]
  },
  {
   "cell_type": "code",
   "execution_count": null,
   "id": "edbc47f5",
   "metadata": {},
   "outputs": [],
   "source": [
    "with open(\"D://Files//newsample2.txt\", \"a\") as f:\n",
    "    f.write(\"new text\\n\")"
   ]
  },
  {
   "cell_type": "code",
   "execution_count": null,
   "id": "f15323d6",
   "metadata": {},
   "outputs": [],
   "source": [
    "with open(\"D://Files//newsample2.txt\",'r') as g:\n",
    "    line=g.readline()\n",
    "    line1=g.readline()\n",
    "    line2=g.readline()\n",
    "    print(line)\n",
    "    print(line1)\n",
    "    print(line2)"
   ]
  },
  {
   "cell_type": "code",
   "execution_count": null,
   "id": "7125c093",
   "metadata": {},
   "outputs": [],
   "source": [
    "with open(\"D://Files//newsample2.txt\",'r') as g:\n",
    "    line=g.readlines()\n",
    "    print(line)"
   ]
  },
  {
   "cell_type": "markdown",
   "id": "a3fb8c35",
   "metadata": {},
   "source": [
    "read() – read all text from a file into a string. This method is useful if you have a small file and            you want to manipulate the whole text of that file.\n",
    "readline() – read the text file line by line and return all the lines as strings.\n",
    "readlines() – read all the lines of the text file and return them as a list of strings."
   ]
  },
  {
   "cell_type": "code",
   "execution_count": 7,
   "id": "925b48dc",
   "metadata": {},
   "outputs": [
    {
     "name": "stdout",
     "output_type": "stream",
     "text": [
      "['myfirst file\\n', 'This file\\n', 'new text\\n', '7878787 \\n']\n"
     ]
    }
   ],
   "source": [
    "with open('D://Files//newsample2.txt', 'r+') as f:\n",
    "                   # move file position to the end of the file.\n",
    "    f.write(\"7878787 \\n\")\n",
    "    y=f.readlines()\n",
    "    print(y) "
   ]
  },
  {
   "cell_type": "code",
   "execution_count": 3,
   "id": "97cbe33c",
   "metadata": {},
   "outputs": [],
   "source": [
    "#The r means reading file; r+ means reading and writing the file.\n",
    "#The w means writing file; w+ means reading and writing the file."
   ]
  },
  {
   "cell_type": "markdown",
   "id": "8d6017b0",
   "metadata": {},
   "source": [
    "#### Text vs Binary files"
   ]
  },
  {
   "cell_type": "markdown",
   "id": "22f1a599",
   "metadata": {},
   "source": [
    "\"Binary\" files are any files where the format isn't made up of readable characters. Binary files can range from image files like JPEGs or GIFs, audio files like MP3s or binary document formats like Word or PDF. In Python, files are opened in text mode by default. To open files in binary mode, when specifying a mode, add 'b' to it."
   ]
  },
  {
   "cell_type": "code",
   "execution_count": null,
   "id": "c7673770",
   "metadata": {},
   "outputs": [],
   "source": [
    "f = open('D://Files//samplefile.mp3', 'rb')\n",
    "file_content = f.read()\n",
    "print(file_content)\n",
    "#f.close()"
   ]
  },
  {
   "cell_type": "code",
   "execution_count": null,
   "id": "7051aa63",
   "metadata": {},
   "outputs": [],
   "source": [
    "f.close()"
   ]
  },
  {
   "cell_type": "code",
   "execution_count": null,
   "id": "e17f0c06",
   "metadata": {},
   "outputs": [],
   "source": [
    "with open(\"D://Files//download.jpg\", \"rb\") as f:\n",
    "    byte = f.readline() #the file is read one byte at a time \n",
    "    print(byte)"
   ]
  },
  {
   "cell_type": "code",
   "execution_count": null,
   "id": "5e25e532",
   "metadata": {},
   "outputs": [],
   "source": [
    "with open(\"D://Files//download.jpg\", \"wb\") as f:\n",
    "    f.write(b'Hello all---')"
   ]
  },
  {
   "cell_type": "code",
   "execution_count": null,
   "id": "8e19f136",
   "metadata": {},
   "outputs": [],
   "source": [
    "with open(\"D://Files//download.jpg\", \"rb\") as f:\n",
    "    byte = f.readline() #the file is read one byte at a time \n",
    "    print(byte)"
   ]
  },
  {
   "cell_type": "markdown",
   "id": "b9681d30",
   "metadata": {},
   "source": [
    "------------------------------------------ end --------------------------------------------------------------------"
   ]
  }
 ],
 "metadata": {
  "kernelspec": {
   "display_name": "Python 3 (ipykernel)",
   "language": "python",
   "name": "python3"
  },
  "language_info": {
   "codemirror_mode": {
    "name": "ipython",
    "version": 3
   },
   "file_extension": ".py",
   "mimetype": "text/x-python",
   "name": "python",
   "nbconvert_exporter": "python",
   "pygments_lexer": "ipython3",
   "version": "3.9.13"
  }
 },
 "nbformat": 4,
 "nbformat_minor": 5
}
