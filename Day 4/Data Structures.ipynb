{
 "cells": [
  {
   "cell_type": "markdown",
   "id": "1a80b102",
   "metadata": {},
   "source": [
    "### Data Structures\n",
    "\n",
    "         - Lists\n",
    "    \n",
    "         - Tuple\n",
    "        \n",
    "         - Dictionary\n",
    "            \n",
    "         - Set\n",
    "        \n",
    "### List Comprehension"
   ]
  },
  {
   "cell_type": "markdown",
   "id": "42c2e01d",
   "metadata": {},
   "source": [
    "#### Data Structures in Python\n",
    "##### Lists"
   ]
  },
  {
   "cell_type": "code",
   "execution_count": null,
   "id": "8371ad4b",
   "metadata": {},
   "outputs": [],
   "source": [
    "An ordered sequence of values enclosed within [ ].\n",
    "\n",
    "- List can be created by [] or list()\n",
    "\n",
    "- Lists are mutable : Can do changes\n",
    "\n",
    "-  List can contain multiple data types\n",
    "\n",
    "- Lists are iterables"
   ]
  },
  {
   "cell_type": "code",
   "execution_count": null,
   "id": "93500aaa",
   "metadata": {},
   "outputs": [],
   "source": [
    "# Create an empty list\n",
    "List1=[]"
   ]
  },
  {
   "cell_type": "code",
   "execution_count": null,
   "id": "0d631c9d",
   "metadata": {},
   "outputs": [],
   "source": [
    "List2=list()"
   ]
  },
  {
   "cell_type": "code",
   "execution_count": null,
   "id": "3ed6bde9",
   "metadata": {},
   "outputs": [],
   "source": [
    "#type"
   ]
  },
  {
   "cell_type": "code",
   "execution_count": null,
   "id": "079c0725",
   "metadata": {},
   "outputs": [],
   "source": [
    "type(List1)"
   ]
  },
  {
   "cell_type": "code",
   "execution_count": null,
   "id": "9d2cc50f",
   "metadata": {},
   "outputs": [],
   "source": [
    "# create a list with int data types\n",
    "l1=[1,5,6,7]\n",
    "l1"
   ]
  },
  {
   "cell_type": "code",
   "execution_count": null,
   "id": "139194c1",
   "metadata": {},
   "outputs": [],
   "source": [
    "# create a list with string data type \n",
    "l2=['h','m','o']\n",
    "l2"
   ]
  },
  {
   "cell_type": "code",
   "execution_count": null,
   "id": "77d50381",
   "metadata": {},
   "outputs": [],
   "source": [
    "# create a list with mixed data types\n",
    "l3=[1,7.6,'h']\n",
    "l3"
   ]
  },
  {
   "cell_type": "code",
   "execution_count": 1,
   "id": "6872b83d",
   "metadata": {},
   "outputs": [
    {
     "data": {
      "text/plain": [
       "[5, 6.5, 'age', True]"
      ]
     },
     "execution_count": 1,
     "metadata": {},
     "output_type": "execute_result"
    }
   ],
   "source": [
    "# Lists are mutable\n",
    "# change the value '5' into '0' in the list ls3\n",
    "ls3=[5,6.5,'age',True]\n",
    "ls3"
   ]
  },
  {
   "cell_type": "code",
   "execution_count": 2,
   "id": "400fe506",
   "metadata": {},
   "outputs": [
    {
     "data": {
      "text/plain": [
       "[10, 6.5, 'age', True]"
      ]
     },
     "execution_count": 2,
     "metadata": {},
     "output_type": "execute_result"
    }
   ],
   "source": [
    "#change '5' into '10'\n",
    "ls3[0]=10\n",
    "ls3"
   ]
  },
  {
   "cell_type": "code",
   "execution_count": 3,
   "id": "56313591",
   "metadata": {},
   "outputs": [
    {
     "data": {
      "text/plain": [
       "'age'"
      ]
     },
     "execution_count": 3,
     "metadata": {},
     "output_type": "execute_result"
    }
   ],
   "source": [
    "# Extract 'age' from the list ls3\n",
    "ls3[2]"
   ]
  },
  {
   "cell_type": "code",
   "execution_count": 7,
   "id": "80669922",
   "metadata": {},
   "outputs": [
    {
     "data": {
      "text/plain": [
       "[10, 6.5, 'age']"
      ]
     },
     "execution_count": 7,
     "metadata": {},
     "output_type": "execute_result"
    }
   ],
   "source": [
    "ls3[0:3]"
   ]
  },
  {
   "cell_type": "code",
   "execution_count": 4,
   "id": "18c666d3",
   "metadata": {},
   "outputs": [
    {
     "data": {
      "text/plain": [
       "'e'"
      ]
     },
     "execution_count": 4,
     "metadata": {},
     "output_type": "execute_result"
    }
   ],
   "source": [
    "# Extract 'e'  from the list ls3\n",
    "ls3[2][2]"
   ]
  },
  {
   "cell_type": "code",
   "execution_count": null,
   "id": "ec42fa2a",
   "metadata": {},
   "outputs": [],
   "source": [
    "# Extract 'age',True from the list ls3\n",
    "ls3[2:]"
   ]
  },
  {
   "cell_type": "code",
   "execution_count": null,
   "id": "21a8653f",
   "metadata": {},
   "outputs": [],
   "source": [
    "ls4= [25,31,[3,4],-5]\n",
    "# extract [3,4] from the list ls4.\n",
    "ls4[2]"
   ]
  },
  {
   "cell_type": "code",
   "execution_count": 8,
   "id": "3d7e4da5",
   "metadata": {},
   "outputs": [
    {
     "data": {
      "text/plain": [
       "[43, 89]"
      ]
     },
     "execution_count": 8,
     "metadata": {},
     "output_type": "execute_result"
    }
   ],
   "source": [
    "first=[2,34,5,[56,81,[43,89],67],10]\n",
    "# extract [43,89]\n",
    "first[3][2]"
   ]
  },
  {
   "cell_type": "code",
   "execution_count": null,
   "id": "1b7ffbba",
   "metadata": {},
   "outputs": [],
   "source": [
    "# extract 89\n",
    "first[3][2][1]"
   ]
  },
  {
   "cell_type": "code",
   "execution_count": 9,
   "id": "dd9122e1",
   "metadata": {},
   "outputs": [
    {
     "name": "stdout",
     "output_type": "stream",
     "text": [
      "['__add__', '__class__', '__class_getitem__', '__contains__', '__delattr__', '__delitem__', '__dir__', '__doc__', '__eq__', '__format__', '__ge__', '__getattribute__', '__getitem__', '__gt__', '__hash__', '__iadd__', '__imul__', '__init__', '__init_subclass__', '__iter__', '__le__', '__len__', '__lt__', '__mul__', '__ne__', '__new__', '__reduce__', '__reduce_ex__', '__repr__', '__reversed__', '__rmul__', '__setattr__', '__setitem__', '__sizeof__', '__str__', '__subclasshook__', 'append', 'clear', 'copy', 'count', 'extend', 'index', 'insert', 'pop', 'remove', 'reverse', 'sort']\n"
     ]
    }
   ],
   "source": [
    "print(dir(first))"
   ]
  },
  {
   "cell_type": "code",
   "execution_count": 20,
   "id": "e10665e6",
   "metadata": {},
   "outputs": [],
   "source": [
    "#extend\n",
    "newlist1=[1,2,3]\n",
    "newlist2=[5,6]\n",
    "newlist1.extend(newlist2)"
   ]
  },
  {
   "cell_type": "code",
   "execution_count": 21,
   "id": "2a7ebf5b",
   "metadata": {},
   "outputs": [
    {
     "data": {
      "text/plain": [
       "[1, 2, 3, 5, 6]"
      ]
     },
     "execution_count": 21,
     "metadata": {},
     "output_type": "execute_result"
    }
   ],
   "source": [
    "newlist1"
   ]
  },
  {
   "cell_type": "code",
   "execution_count": 12,
   "id": "14698a94",
   "metadata": {},
   "outputs": [
    {
     "data": {
      "text/plain": [
       "[6, 7, 8, [9, 10]]"
      ]
     },
     "execution_count": 12,
     "metadata": {},
     "output_type": "execute_result"
    }
   ],
   "source": [
    "# append\n",
    "newlist3=[6,7,8]\n",
    "newlist4=[9,10]\n",
    "newlist3.append(newlist4)\n",
    "newlist3"
   ]
  },
  {
   "cell_type": "code",
   "execution_count": null,
   "id": "c878f8a4",
   "metadata": {},
   "outputs": [],
   "source": [
    "# insert\n",
    "#syntax: listobject.insert(index,value)\n",
    "newlist1.insert(5,34)\n",
    "newlist1"
   ]
  },
  {
   "cell_type": "code",
   "execution_count": null,
   "id": "180dd055",
   "metadata": {},
   "outputs": [],
   "source": [
    "#pop\n",
    "# listobject.pop(index) \n",
    "# list object.pop()--> removes last element in the list"
   ]
  },
  {
   "cell_type": "code",
   "execution_count": 26,
   "id": "e71bd95a",
   "metadata": {},
   "outputs": [
    {
     "data": {
      "text/plain": [
       "3"
      ]
     },
     "execution_count": 26,
     "metadata": {},
     "output_type": "execute_result"
    }
   ],
   "source": [
    "newlist1.pop()"
   ]
  },
  {
   "cell_type": "code",
   "execution_count": 27,
   "id": "71926f2e",
   "metadata": {},
   "outputs": [
    {
     "data": {
      "text/plain": [
       "[1, 2]"
      ]
     },
     "execution_count": 27,
     "metadata": {},
     "output_type": "execute_result"
    }
   ],
   "source": [
    "newlist1"
   ]
  },
  {
   "cell_type": "code",
   "execution_count": 17,
   "id": "7e71a280",
   "metadata": {},
   "outputs": [
    {
     "data": {
      "text/plain": [
       "3"
      ]
     },
     "execution_count": 17,
     "metadata": {},
     "output_type": "execute_result"
    }
   ],
   "source": [
    "newlist1.pop(2)"
   ]
  },
  {
   "cell_type": "code",
   "execution_count": 18,
   "id": "0153e6da",
   "metadata": {},
   "outputs": [
    {
     "data": {
      "text/plain": [
       "[1, 2, 5]"
      ]
     },
     "execution_count": 18,
     "metadata": {},
     "output_type": "execute_result"
    }
   ],
   "source": [
    "newlist1"
   ]
  },
  {
   "cell_type": "code",
   "execution_count": 13,
   "id": "061feb1f",
   "metadata": {},
   "outputs": [],
   "source": [
    "## remove \n",
    "# syntax: listobject.remove(value)\n",
    "list_1=[1,2,'hi','wel',8]"
   ]
  },
  {
   "cell_type": "code",
   "execution_count": 14,
   "id": "15455797",
   "metadata": {},
   "outputs": [
    {
     "data": {
      "text/plain": [
       "[1, 2, 'hi', 'wel']"
      ]
     },
     "execution_count": 14,
     "metadata": {},
     "output_type": "execute_result"
    }
   ],
   "source": [
    "list_1.remove(8)\n",
    "list_1"
   ]
  },
  {
   "cell_type": "code",
   "execution_count": 28,
   "id": "272e4cc4",
   "metadata": {},
   "outputs": [],
   "source": [
    "first=[2,34,5,[56,81,[43,89],67],10,59,57]"
   ]
  },
  {
   "cell_type": "code",
   "execution_count": null,
   "id": "08d293f4",
   "metadata": {},
   "outputs": [],
   "source": [
    "#remove 81"
   ]
  },
  {
   "cell_type": "code",
   "execution_count": 29,
   "id": "38efeb06",
   "metadata": {},
   "outputs": [],
   "source": [
    "#del\n",
    "#remove elements from the list : remove 81\n",
    "del(first[3][1])"
   ]
  },
  {
   "cell_type": "code",
   "execution_count": 30,
   "id": "7033d54e",
   "metadata": {},
   "outputs": [
    {
     "data": {
      "text/plain": [
       "[2, 34, 5, [56, [43, 89], 67], 10, 59, 57]"
      ]
     },
     "execution_count": 30,
     "metadata": {},
     "output_type": "execute_result"
    }
   ],
   "source": [
    "first"
   ]
  },
  {
   "cell_type": "code",
   "execution_count": null,
   "id": "553b9472",
   "metadata": {},
   "outputs": [],
   "source": [
    "#remove 89\n",
    "first[3][1].remove(89)"
   ]
  },
  {
   "cell_type": "code",
   "execution_count": null,
   "id": "c10fa1b5",
   "metadata": {},
   "outputs": [],
   "source": [
    "first"
   ]
  },
  {
   "cell_type": "code",
   "execution_count": null,
   "id": "9172b1eb",
   "metadata": {},
   "outputs": [],
   "source": [
    "# remove 43\n",
    "del(first[3][1])\n",
    "first"
   ]
  },
  {
   "cell_type": "code",
   "execution_count": null,
   "id": "81b8a346",
   "metadata": {},
   "outputs": [],
   "source": [
    "# remove the values 34 & 5.\n",
    "first1= [2, 34, 5, 56,[[89], 67], 10, 59, 57]\n",
    "del(first1[1:3])\n",
    "first1"
   ]
  },
  {
   "cell_type": "code",
   "execution_count": null,
   "id": "a57bcb43",
   "metadata": {},
   "outputs": [],
   "source": [
    "# remove the values 2 and 10 (first1)"
   ]
  },
  {
   "cell_type": "code",
   "execution_count": null,
   "id": "f3701490",
   "metadata": {},
   "outputs": [],
   "source": [
    "del(first1[0],first1[2])"
   ]
  },
  {
   "cell_type": "code",
   "execution_count": null,
   "id": "f13f6c7d",
   "metadata": {},
   "outputs": [],
   "source": [
    "first1"
   ]
  },
  {
   "cell_type": "code",
   "execution_count": 31,
   "id": "08b87b53",
   "metadata": {},
   "outputs": [],
   "source": [
    "# reverse\n",
    "# syntax: list object.reverse()\n",
    "list1 = [1, 2, 3, 4, 1, 2, 6]\n",
    "list1.reverse()"
   ]
  },
  {
   "cell_type": "code",
   "execution_count": 32,
   "id": "5545b321",
   "metadata": {},
   "outputs": [
    {
     "data": {
      "text/plain": [
       "[6, 2, 1, 4, 3, 2, 1]"
      ]
     },
     "execution_count": 32,
     "metadata": {},
     "output_type": "execute_result"
    }
   ],
   "source": [
    "list1"
   ]
  },
  {
   "cell_type": "code",
   "execution_count": null,
   "id": "900b4ded",
   "metadata": {},
   "outputs": [],
   "source": [
    "#index\n",
    "# returns the index of the element\n",
    "# list object.index(value)\n",
    "list1.index(1)"
   ]
  },
  {
   "cell_type": "code",
   "execution_count": 33,
   "id": "513faa70",
   "metadata": {},
   "outputs": [],
   "source": [
    "### Apply + * on list objects\n",
    "ls1=[12,23,12,45]\n",
    "ls2=[34,6,7,8]"
   ]
  },
  {
   "cell_type": "code",
   "execution_count": 34,
   "id": "eb4f0435",
   "metadata": {},
   "outputs": [
    {
     "data": {
      "text/plain": [
       "[12, 23, 12, 45, 34, 6, 7, 8]"
      ]
     },
     "execution_count": 34,
     "metadata": {},
     "output_type": "execute_result"
    }
   ],
   "source": [
    "ls1+ls2"
   ]
  },
  {
   "cell_type": "code",
   "execution_count": 35,
   "id": "0d037364",
   "metadata": {},
   "outputs": [
    {
     "data": {
      "text/plain": [
       "[12, 23, 12, 45, 12, 23, 12, 45, 12, 23, 12, 45]"
      ]
     },
     "execution_count": 35,
     "metadata": {},
     "output_type": "execute_result"
    }
   ],
   "source": [
    "ls1*3"
   ]
  },
  {
   "cell_type": "code",
   "execution_count": 36,
   "id": "c4f15fc3",
   "metadata": {},
   "outputs": [],
   "source": [
    "# sort the list object in ascending order\n",
    "ls6=[12,4,78,2,9,54]"
   ]
  },
  {
   "cell_type": "code",
   "execution_count": 37,
   "id": "184d7bd4",
   "metadata": {},
   "outputs": [
    {
     "data": {
      "text/plain": [
       "[2, 4, 9, 12, 54, 78]"
      ]
     },
     "execution_count": 37,
     "metadata": {},
     "output_type": "execute_result"
    }
   ],
   "source": [
    "# sorted() function\n",
    "sorted(ls6)"
   ]
  },
  {
   "cell_type": "code",
   "execution_count": 38,
   "id": "09927a0a",
   "metadata": {},
   "outputs": [
    {
     "data": {
      "text/plain": [
       "[12, 4, 78, 2, 9, 54]"
      ]
     },
     "execution_count": 38,
     "metadata": {},
     "output_type": "execute_result"
    }
   ],
   "source": [
    "ls6"
   ]
  },
  {
   "cell_type": "code",
   "execution_count": 41,
   "id": "b6c0d8a1",
   "metadata": {},
   "outputs": [
    {
     "data": {
      "text/plain": [
       "[78, 54, 12, 9, 4, 2]"
      ]
     },
     "execution_count": 41,
     "metadata": {},
     "output_type": "execute_result"
    }
   ],
   "source": [
    "#descending order\n",
    "sorted(ls6,reverse=True)"
   ]
  },
  {
   "cell_type": "code",
   "execution_count": 39,
   "id": "8cb27675",
   "metadata": {},
   "outputs": [],
   "source": [
    "# sort() method\n",
    "ls6.sort()"
   ]
  },
  {
   "cell_type": "code",
   "execution_count": 40,
   "id": "e797fb3d",
   "metadata": {},
   "outputs": [
    {
     "data": {
      "text/plain": [
       "[2, 4, 9, 12, 54, 78]"
      ]
     },
     "execution_count": 40,
     "metadata": {},
     "output_type": "execute_result"
    }
   ],
   "source": [
    "ls6"
   ]
  },
  {
   "cell_type": "code",
   "execution_count": null,
   "id": "3a4702cb",
   "metadata": {},
   "outputs": [],
   "source": [
    "#descending order\n",
    "ls6.sort(reverse=True)"
   ]
  },
  {
   "cell_type": "code",
   "execution_count": null,
   "id": "c4188d4b",
   "metadata": {},
   "outputs": [],
   "source": [
    "ls6"
   ]
  },
  {
   "cell_type": "code",
   "execution_count": 42,
   "id": "85ba673d",
   "metadata": {},
   "outputs": [],
   "source": [
    "# Copy one list from the other list (or) creating a list from existing list by using '=' (or) copy() method\n",
    "ls9=[1,2,5,2,1,3,2,10]\n",
    "#create newlist from ls9."
   ]
  },
  {
   "cell_type": "code",
   "execution_count": 43,
   "id": "620f4371",
   "metadata": {},
   "outputs": [],
   "source": [
    "ls10=ls9\n",
    "ls11=ls9.copy()"
   ]
  },
  {
   "cell_type": "code",
   "execution_count": 44,
   "id": "0deebe59",
   "metadata": {},
   "outputs": [
    {
     "name": "stdout",
     "output_type": "stream",
     "text": [
      "[1, 2, 5, 2, 1, 3, 2, 10]\n",
      "[1, 2, 5, 2, 1, 3, 2, 10]\n",
      "[1, 2, 5, 2, 1, 3, 2, 10]\n"
     ]
    }
   ],
   "source": [
    "print(ls9);print(ls10);print(ls11)"
   ]
  },
  {
   "cell_type": "code",
   "execution_count": 45,
   "id": "77440f90",
   "metadata": {},
   "outputs": [
    {
     "name": "stdout",
     "output_type": "stream",
     "text": [
      "[7, 2, 5, 2, 1, 3, 2, 10]\n",
      "[7, 2, 5, 2, 1, 3, 2, 10]\n",
      "[1, 2, 5, 2, 1, 3, 2, 10]\n"
     ]
    }
   ],
   "source": [
    "# do changes on original list ls9\n",
    "ls9[0]=7\n",
    "print(ls9);print(ls10);print(ls11)"
   ]
  },
  {
   "cell_type": "code",
   "execution_count": null,
   "id": "f0af2028",
   "metadata": {},
   "outputs": [],
   "source": [
    "#split method\n",
    "dt='12-08-2022'\n",
    "dt.split('-')"
   ]
  },
  {
   "cell_type": "code",
   "execution_count": null,
   "id": "2de11eb6",
   "metadata": {},
   "outputs": [],
   "source": [
    "# loop\n",
    "for i in ls1:\n",
    "    print(i)"
   ]
  },
  {
   "cell_type": "code",
   "execution_count": null,
   "id": "081bc98d",
   "metadata": {},
   "outputs": [],
   "source": [
    "#List comprehension\n",
    "# one line expression of for loop"
   ]
  },
  {
   "cell_type": "code",
   "execution_count": null,
   "id": "11ebb6fb",
   "metadata": {},
   "outputs": [],
   "source": [
    "a=[1,2,3,4]\n",
    "#list of square of elements of a\n",
    "#for loop\n",
    "b=[]\n",
    "for i in a:\n",
    "    x=i**2\n",
    "    b.append(x)\n",
    "print(b)"
   ]
  },
  {
   "cell_type": "code",
   "execution_count": null,
   "id": "b41d298d",
   "metadata": {},
   "outputs": [],
   "source": [
    "#list comprehension : syntax: [expression for if]\n",
    "[i**2 for i in a]"
   ]
  },
  {
   "cell_type": "code",
   "execution_count": null,
   "id": "7902a055",
   "metadata": {},
   "outputs": [],
   "source": [
    "cities=['Delhi','Pune','Chennai','Bangalore','Hyd']\n",
    "# create a list of elements which has length is greater than 6.\n",
    "[i for i in cities if len(i)>6]"
   ]
  },
  {
   "cell_type": "code",
   "execution_count": null,
   "id": "587102a5",
   "metadata": {},
   "outputs": [],
   "source": [
    "L=[4,7,8,9]\n",
    "# Add value 5 to each element in the list\n",
    "[i+5 for i in L]"
   ]
  },
  {
   "cell_type": "code",
   "execution_count": null,
   "id": "74134009",
   "metadata": {},
   "outputs": [],
   "source": [
    "# Create a list of elements which is greater than 5 in the given list L\n",
    "[i for i in L if i>5]"
   ]
  },
  {
   "cell_type": "code",
   "execution_count": null,
   "id": "c1a94998",
   "metadata": {},
   "outputs": [],
   "source": [
    "# Addition of two lists L1 and L2 (adding elements in the lists)\n",
    "L1=[3,4,5,6]\n",
    "L2=[1,3,5,8]"
   ]
  },
  {
   "cell_type": "code",
   "execution_count": null,
   "id": "04ed4b7f",
   "metadata": {},
   "outputs": [],
   "source": [
    "# for loop\n",
    "L=[]\n",
    "for i in range(len(L1)):\n",
    "    x=L1[i]+L2[i]\n",
    "    L.append(x)\n",
    "print(L)"
   ]
  },
  {
   "cell_type": "code",
   "execution_count": null,
   "id": "3517c28c",
   "metadata": {},
   "outputs": [],
   "source": [
    "# List comprehension\n",
    "[L1[i]+L2[i] for i in range(len(L1))]"
   ]
  },
  {
   "cell_type": "markdown",
   "id": "68ce9949",
   "metadata": {},
   "source": [
    "### Tuple\n",
    "\n",
    "- A tuple is a sequence of items\n",
    "- tuple is created by using () or tuple()\n",
    "- tuple contains mixed data type\n",
    "- tuples are immutable\n",
    "- tuples are iterable"
   ]
  },
  {
   "cell_type": "code",
   "execution_count": null,
   "id": "79692679",
   "metadata": {},
   "outputs": [],
   "source": [
    "# empty tuple object\n",
    "tuple1=()\n",
    "tuple2=tuple()"
   ]
  },
  {
   "cell_type": "code",
   "execution_count": null,
   "id": "01c38572",
   "metadata": {},
   "outputs": [],
   "source": [
    "#type\n",
    "print(type(tuple1))\n",
    "print(type(tuple2))"
   ]
  },
  {
   "cell_type": "code",
   "execution_count": null,
   "id": "53f28503",
   "metadata": {},
   "outputs": [],
   "source": [
    "# create a tuple with elements\n",
    "t3=(4,'hi',True)"
   ]
  },
  {
   "cell_type": "code",
   "execution_count": null,
   "id": "fe19c1eb",
   "metadata": {},
   "outputs": [],
   "source": [
    "# extract '4' from t3\n",
    "t3[0]"
   ]
  },
  {
   "cell_type": "code",
   "execution_count": null,
   "id": "b5ffc49f",
   "metadata": {},
   "outputs": [],
   "source": [
    "# immutable\n",
    "t3[0]=10"
   ]
  },
  {
   "cell_type": "code",
   "execution_count": null,
   "id": "ed17f488",
   "metadata": {},
   "outputs": [],
   "source": [
    "# convert tuple object into list object\n",
    "t4=list(t3)\n",
    "t4[0]=10\n",
    "t4"
   ]
  },
  {
   "cell_type": "code",
   "execution_count": null,
   "id": "0f8d08ab",
   "metadata": {},
   "outputs": [],
   "source": [
    "t3=tuple(t4)\n",
    "t3"
   ]
  },
  {
   "cell_type": "code",
   "execution_count": null,
   "id": "4e887619",
   "metadata": {},
   "outputs": [],
   "source": [
    "#for loop\n",
    "for i in t3:\n",
    "    print(i)"
   ]
  },
  {
   "cell_type": "code",
   "execution_count": null,
   "id": "1bef7975",
   "metadata": {},
   "outputs": [],
   "source": [
    "print(dir(t3))"
   ]
  },
  {
   "cell_type": "code",
   "execution_count": null,
   "id": "5e523e9d",
   "metadata": {},
   "outputs": [],
   "source": [
    "### Dictionary\n",
    "- A collection of unordered set of key:value pairs.\n",
    "\n",
    "- Create dictionaries by using {} or dict()\n",
    "\n",
    "- Keys are unique.\n",
    "\n",
    "- values are accessed by using keys, not by index\n",
    "\n",
    "- Dictionaries are mutable.\n",
    "\n",
    "- Dicitonaries are iterables."
   ]
  },
  {
   "cell_type": "code",
   "execution_count": null,
   "id": "943bd3dc",
   "metadata": {},
   "outputs": [],
   "source": [
    "# empty dict:\n",
    "d={}\n",
    "d1=dict()"
   ]
  },
  {
   "cell_type": "code",
   "execution_count": null,
   "id": "4501ec02",
   "metadata": {},
   "outputs": [],
   "source": [
    "#type\n",
    "print(type(d))\n",
    "print(type(d1))"
   ]
  },
  {
   "cell_type": "code",
   "execution_count": null,
   "id": "9e6efeb8",
   "metadata": {},
   "outputs": [],
   "source": [
    "# create dict of integer values\n",
    "d2={'one':23,'two':76,'three':90}\n",
    "d2"
   ]
  },
  {
   "cell_type": "code",
   "execution_count": null,
   "id": "49b3a49d",
   "metadata": {},
   "outputs": [],
   "source": [
    "# create  dict of strings values\n",
    "d3={'new1':'good','new2':'bad'}\n",
    "d3"
   ]
  },
  {
   "cell_type": "code",
   "execution_count": null,
   "id": "bf07a54c",
   "metadata": {},
   "outputs": [],
   "source": [
    "# create dict of mixed data types\n",
    "d4={'first':56,'second':(4,5,'hi'),'third':[8.9,'the',45]}\n",
    "d4"
   ]
  },
  {
   "cell_type": "code",
   "execution_count": null,
   "id": "9bb8ac28",
   "metadata": {},
   "outputs": [],
   "source": [
    "#keys\n",
    "d4.keys()"
   ]
  },
  {
   "cell_type": "code",
   "execution_count": null,
   "id": "4e58a937",
   "metadata": {},
   "outputs": [],
   "source": [
    "#values\n",
    "d4.values()"
   ]
  },
  {
   "cell_type": "code",
   "execution_count": null,
   "id": "afec7e0b",
   "metadata": {},
   "outputs": [],
   "source": [
    "#items\n",
    "d4.items()"
   ]
  },
  {
   "cell_type": "code",
   "execution_count": null,
   "id": "7226655e",
   "metadata": {},
   "outputs": [],
   "source": [
    "d4={'first':[5,6,7],'second':[\"a\",\"b\"],'third':(7,8,0),'fourth':\"hello\"}\n",
    "#extract [5,6,7] from d4.\n",
    "d4['first']"
   ]
  },
  {
   "cell_type": "code",
   "execution_count": null,
   "id": "712417d1",
   "metadata": {},
   "outputs": [],
   "source": [
    "#extract 6\n",
    "d4['first'][1]"
   ]
  },
  {
   "cell_type": "code",
   "execution_count": null,
   "id": "45b22e8c",
   "metadata": {},
   "outputs": [],
   "source": [
    "#extract 'b'\n",
    "d4['second'][1]"
   ]
  },
  {
   "cell_type": "code",
   "execution_count": null,
   "id": "4f754e21",
   "metadata": {},
   "outputs": [],
   "source": [
    "d5={'one':{'el_one':[3,4,6,{'el_two':'z'}]}}\n",
    "# extract 'z'\n",
    "d5['one']['el_one'][3]['el_two']"
   ]
  },
  {
   "cell_type": "code",
   "execution_count": null,
   "id": "46e055bb",
   "metadata": {},
   "outputs": [],
   "source": [
    "d6={'new':[9,4,5,['split','merge',10]],'old':('s',17,0),'mid':{'ram':4,'ravi':8}}\n",
    "#Extract 'merge'\n",
    "d6['new'][3][1]"
   ]
  },
  {
   "cell_type": "code",
   "execution_count": null,
   "id": "b2f4db13",
   "metadata": {},
   "outputs": [],
   "source": [
    "#extract 8\n",
    "d6['mid']['ravi']"
   ]
  },
  {
   "cell_type": "code",
   "execution_count": null,
   "id": "bb456050",
   "metadata": {},
   "outputs": [],
   "source": [
    "# for loop\n",
    "for i in d6:\n",
    "    print(d6[i])"
   ]
  },
  {
   "cell_type": "code",
   "execution_count": null,
   "id": "957948fa",
   "metadata": {},
   "outputs": [],
   "source": [
    "#mutable\n",
    "d6['new'][0]=20\n",
    "d6"
   ]
  },
  {
   "cell_type": "code",
   "execution_count": null,
   "id": "a900fbef",
   "metadata": {},
   "outputs": [],
   "source": [
    "# using pop() method to remove the values in the dictionary\n",
    "d6['new'].pop(2)"
   ]
  },
  {
   "cell_type": "code",
   "execution_count": null,
   "id": "028e9407",
   "metadata": {},
   "outputs": [],
   "source": [
    "d6"
   ]
  },
  {
   "cell_type": "code",
   "execution_count": null,
   "id": "b4ce220b",
   "metadata": {},
   "outputs": [],
   "source": [
    "print(dir(d6))"
   ]
  },
  {
   "cell_type": "code",
   "execution_count": null,
   "id": "274945d4",
   "metadata": {},
   "outputs": [],
   "source": [
    "# replace a key name 'mid' into middle\n",
    "#d6['middle']=d6.pop('mid') # it will replace the values in the corresponding key."
   ]
  },
  {
   "cell_type": "code",
   "execution_count": null,
   "id": "8c85e5c2",
   "metadata": {},
   "outputs": [],
   "source": [
    "# using pop() method to rename the key names in the dictionary\n",
    "d6['middle']=d6.pop('mid')\n",
    "d6"
   ]
  },
  {
   "cell_type": "code",
   "execution_count": null,
   "id": "6005e347",
   "metadata": {},
   "outputs": [],
   "source": [
    "?d6.pop() # shift+tab "
   ]
  },
  {
   "cell_type": "markdown",
   "id": "82c269ab",
   "metadata": {},
   "source": [
    "### Sets\n",
    "- Unordered sequence of elements\n",
    "\n",
    "- create set objects by using {} or set()\n",
    "\n",
    "- sets are immutable\n",
    "\n",
    "- sets are iterables"
   ]
  },
  {
   "cell_type": "code",
   "execution_count": null,
   "id": "90c3cf9a",
   "metadata": {},
   "outputs": [],
   "source": [
    "#create a set\n",
    "# empty set\n",
    "S=set()\n",
    "type(S)"
   ]
  },
  {
   "cell_type": "code",
   "execution_count": null,
   "id": "b64ccae9",
   "metadata": {},
   "outputs": [],
   "source": [
    "# create a set object of string values\n",
    "S1={\"Monday\",\"Tuesday\",\"Wednesday\",\"Monday\"}\n",
    "S1"
   ]
  },
  {
   "cell_type": "code",
   "execution_count": null,
   "id": "5c4732f9",
   "metadata": {},
   "outputs": [],
   "source": [
    "# create a set object of list values\n",
    "S2=set([\"Jan\",\"Feb\",\"Mar\",98])"
   ]
  },
  {
   "cell_type": "code",
   "execution_count": null,
   "id": "44ca196e",
   "metadata": {},
   "outputs": [],
   "source": [
    "S2"
   ]
  },
  {
   "cell_type": "code",
   "execution_count": null,
   "id": "d20a5af5",
   "metadata": {},
   "outputs": [],
   "source": [
    "#cannot do indexing and slicing "
   ]
  },
  {
   "cell_type": "code",
   "execution_count": null,
   "id": "86270edb",
   "metadata": {},
   "outputs": [],
   "source": [
    "S2[0]"
   ]
  },
  {
   "cell_type": "code",
   "execution_count": null,
   "id": "e43060c9",
   "metadata": {},
   "outputs": [],
   "source": [
    "#immutable\n",
    "S2[0]=56"
   ]
  },
  {
   "cell_type": "code",
   "execution_count": null,
   "id": "884d0f45",
   "metadata": {},
   "outputs": [],
   "source": [
    "print(dir(S2))"
   ]
  },
  {
   "cell_type": "code",
   "execution_count": null,
   "id": "c8190fe1",
   "metadata": {},
   "outputs": [],
   "source": [
    "# add element in the set S2.\n",
    "#object.add(value)\n",
    "S2.add(\"May\")"
   ]
  },
  {
   "cell_type": "code",
   "execution_count": null,
   "id": "1e3e42c4",
   "metadata": {},
   "outputs": [],
   "source": [
    "#update\n",
    "#object.update([value1,value2,..])\n",
    "S2.update([\"Jun\",\"July\",\"Aug\"])\n",
    "S2"
   ]
  },
  {
   "cell_type": "code",
   "execution_count": null,
   "id": "e9b69e4c",
   "metadata": {},
   "outputs": [],
   "source": [
    "# removing the items\n",
    "- remove()\n",
    "- pop()\n",
    "- discard()\n",
    "\n",
    "#discard() function if the item does not exist in the set then the set remain unchanged \n",
    "#whereas remove() method will through an error\n"
   ]
  },
  {
   "cell_type": "code",
   "execution_count": null,
   "id": "c71f106e",
   "metadata": {},
   "outputs": [],
   "source": [
    "#object.remove(value)\n",
    "S2.remove(98)\n",
    "S2"
   ]
  },
  {
   "cell_type": "code",
   "execution_count": null,
   "id": "84f06d0f",
   "metadata": {},
   "outputs": [],
   "source": [
    "#object.pop()\n",
    "S2.pop()"
   ]
  },
  {
   "cell_type": "code",
   "execution_count": null,
   "id": "a37b2b15",
   "metadata": {},
   "outputs": [],
   "source": [
    "#object.discard(value)\n",
    "S2.discard('Jan')\n",
    "S2"
   ]
  },
  {
   "cell_type": "code",
   "execution_count": null,
   "id": "f5b67123",
   "metadata": {},
   "outputs": [],
   "source": [
    "S2.discard('Jan')"
   ]
  },
  {
   "cell_type": "markdown",
   "id": "4547c28e",
   "metadata": {},
   "source": [
    "### Set operations\n",
    "- Union\n",
    "\n",
    "- Intersection\n",
    "\n",
    "- Difference\n",
    "\n",
    "- Symmetric difference"
   ]
  },
  {
   "cell_type": "code",
   "execution_count": null,
   "id": "848ebfb4",
   "metadata": {},
   "outputs": [],
   "source": [
    "#union\n",
    "Days1={'Monday',\"Tuesday\",\"Wednesday\",\"Thursday\",\"Sunday\"}\n",
    "Days2={\"Friday\",\"Saturday\",\"Sunday\"}\n",
    "#object1.union(object2)\n",
    "Days1.union(Days2)"
   ]
  },
  {
   "cell_type": "code",
   "execution_count": null,
   "id": "21209f15",
   "metadata": {},
   "outputs": [],
   "source": [
    "#intersection\n",
    "#object1.intersection(object2)\n",
    "Days1.intersection(Days2)"
   ]
  },
  {
   "cell_type": "code",
   "execution_count": null,
   "id": "ffb58a07",
   "metadata": {},
   "outputs": [],
   "source": [
    "# difference\n",
    "# elements in one set which are all not in another set.\n",
    "A={10,20,30,40,50}\n",
    "B={100,30,50,40,60}\n",
    "#object1.difference(object2) # A-B"
   ]
  },
  {
   "cell_type": "code",
   "execution_count": null,
   "id": "42de055b",
   "metadata": {},
   "outputs": [],
   "source": [
    "A.difference(B)"
   ]
  },
  {
   "cell_type": "code",
   "execution_count": null,
   "id": "60ef855b",
   "metadata": {},
   "outputs": [],
   "source": [
    "# Symmetric differnce\n",
    "#All the elements except intersection."
   ]
  },
  {
   "cell_type": "code",
   "execution_count": null,
   "id": "849fc8e5",
   "metadata": {},
   "outputs": [],
   "source": [
    "#object1.symmetric_difference(object2)\n",
    "A.symmetric_difference(B)"
   ]
  },
  {
   "cell_type": "code",
   "execution_count": null,
   "id": "53623187",
   "metadata": {},
   "outputs": [],
   "source": [
    "# for loop\n",
    "for i in A:\n",
    "    print(i)"
   ]
  },
  {
   "cell_type": "code",
   "execution_count": null,
   "id": "b6394772",
   "metadata": {},
   "outputs": [],
   "source": [
    "### map and filter function\n",
    "# find the square of elements in the list\n",
    "#map function: map square function\n",
    "b=[2,3,4]\n",
    "square1=lambda x: x**2\n",
    "# map(fun,iterable)\n",
    "list(map(square1,b))"
   ]
  },
  {
   "cell_type": "code",
   "execution_count": null,
   "id": "2acff138",
   "metadata": {},
   "outputs": [],
   "source": [
    "# filter function\n",
    "# filter the words from a list that dont start with the letter 's'\n",
    "seq=['soup','salad','food','great']\n",
    "list(filter(lambda x:x[0]!='s',seq))"
   ]
  },
  {
   "cell_type": "code",
   "execution_count": null,
   "id": "d586692f",
   "metadata": {},
   "outputs": [],
   "source": [
    "# Set objects remove duplicates\n",
    "s=[1,2,4,2,5,3,3,7,7,7]\n",
    "set1=set(s)\n",
    "set1"
   ]
  },
  {
   "cell_type": "code",
   "execution_count": null,
   "id": "3bffdaed",
   "metadata": {},
   "outputs": [],
   "source": [
    "t=(6,)\n",
    "type(t)"
   ]
  },
  {
   "cell_type": "markdown",
   "id": "a12e6c04",
   "metadata": {},
   "source": [
    "--------------------------------------------------End--------------------------------------------------------------"
   ]
  }
 ],
 "metadata": {
  "kernelspec": {
   "display_name": "Python 3 (ipykernel)",
   "language": "python",
   "name": "python3"
  },
  "language_info": {
   "codemirror_mode": {
    "name": "ipython",
    "version": 3
   },
   "file_extension": ".py",
   "mimetype": "text/x-python",
   "name": "python",
   "nbconvert_exporter": "python",
   "pygments_lexer": "ipython3",
   "version": "3.9.13"
  }
 },
 "nbformat": 4,
 "nbformat_minor": 5
}
