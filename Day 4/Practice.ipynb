{
 "cells": [
  {
   "cell_type": "raw",
   "id": "3497e50c",
   "metadata": {},
   "source": [
    "1.\tCreate a user defined function to find whether a given 3-digit number is an Armstrong number or not.\n",
    "An Armstrong number of three digits is an integer such that the sum of the cubes of its digits is equal to the number itself. For example, 371 is an Armstrong number since 3**3 + 7**3 + 1**3 = 371.\n",
    "Following requirements should be taken care in the program.\n",
    "\n",
    "Program should print the output as described in the Example Section below\n",
    "If the number is not 3 digit output should show as INVALID_INPUT\n",
    "\n",
    "Sample Input 1:\n",
    "371\n",
    "Expected Output:\n",
    "ARMSTRONG\n",
    "Sample Input 2:\n",
    "832\n",
    "Expected Output:\n",
    "NOT ARMSTRONG\n",
    "Sample Input 3:\n",
    "153\n",
    "Expected Output:\n",
    "ARMSTRONG\n",
    "Sample Input 4:\n",
    "963\n",
    "Expected Output:\n",
    "NOT ARMSTRONG\n",
    "Sample Input 5:\n",
    "45\n",
    "Expected Output:\n",
    "INVALID_INPUT\n",
    "\n"
   ]
  },
  {
   "cell_type": "raw",
   "id": "ac198821",
   "metadata": {},
   "source": [
    "2.\tWrite a Python function to arrange the elements of a given list of integers where all positive integers appear before all the negative integers\n",
    "\n",
    "Input Format:\n",
    "The first integer N indicates number of elements in the list.\n",
    "The next N lines will have one integer per line.\n",
    "\n",
    "Output Format:\n",
    "Print a single list where all positive integers have appeared before all the negative integers.\n",
    "\n",
    "Sample Input:\n",
    "8\n",
    "-9\n",
    "3\n",
    "4\n",
    "-8\n",
    "1\n",
    "2\n",
    "5\n",
    "-10\n",
    "\n",
    "Sample Output:\n",
    "[3, 4, 1, 2, 5, -9, -8, -10]\n",
    "\n"
   ]
  },
  {
   "cell_type": "raw",
   "id": "740e6d51",
   "metadata": {},
   "source": [
    "3.\tYou need to write a program that rewrites numbers from input to output until the number 7 is encountered.\n",
    "\n",
    "Sample test case:\n",
    "\n",
    "input #1:\n",
    "2\n",
    "3\n",
    "5\n",
    "6\n",
    "7\n",
    "8\n",
    "\n",
    "Output #1:\n",
    "2\n",
    "3\n",
    "5\n",
    "6\n",
    "\n",
    "Explanation\n",
    "The program has to keep rewriting the numbers to stdout until 7 is encountered, and as it occurs, the program stopped reading from the input and terminates.\n"
   ]
  },
  {
   "cell_type": "code",
   "execution_count": null,
   "id": "c7b1e42b",
   "metadata": {},
   "outputs": [],
   "source": []
  }
 ],
 "metadata": {
  "kernelspec": {
   "display_name": "Python 3 (ipykernel)",
   "language": "python",
   "name": "python3"
  },
  "language_info": {
   "codemirror_mode": {
    "name": "ipython",
    "version": 3
   },
   "file_extension": ".py",
   "mimetype": "text/x-python",
   "name": "python",
   "nbconvert_exporter": "python",
   "pygments_lexer": "ipython3",
   "version": "3.9.13"
  }
 },
 "nbformat": 4,
 "nbformat_minor": 5
}
