{
 "cells": [
  {
   "cell_type": "markdown",
   "id": "3855b8ce",
   "metadata": {},
   "source": [
    "### For Loop"
   ]
  },
  {
   "cell_type": "code",
   "execution_count": null,
   "id": "c8709a80",
   "metadata": {},
   "outputs": [],
   "source": [
    "#Print characters from a string that are present at an even index number"
   ]
  },
  {
   "cell_type": "code",
   "execution_count": null,
   "id": "2e06d6d9",
   "metadata": {},
   "outputs": [],
   "source": [
    "#Write a program to print first 10 even numbers in reverse order."
   ]
  },
  {
   "cell_type": "code",
   "execution_count": null,
   "id": "f70d1fc7",
   "metadata": {},
   "outputs": [],
   "source": [
    "#Write a program to print multiples of a number accepted from user.(5 multiples)"
   ]
  },
  {
   "cell_type": "code",
   "execution_count": null,
   "id": "ce0397d4",
   "metadata": {},
   "outputs": [],
   "source": [
    "#Write a program to find the factorial of a number - for  loop"
   ]
  },
  {
   "cell_type": "code",
   "execution_count": null,
   "id": "f4d84f1a",
   "metadata": {},
   "outputs": [],
   "source": [
    "#Write a program to display all the numbers which are divisible by 11 but not by 2 between 100 and 500.- for loop"
   ]
  },
  {
   "cell_type": "code",
   "execution_count": null,
   "id": "5b642ef0",
   "metadata": {},
   "outputs": [],
   "source": [
    "#Write a Python program to create the multiplication table (from 1 to 10) of a number."
   ]
  },
  {
   "cell_type": "code",
   "execution_count": null,
   "id": "213a9c4b",
   "metadata": {},
   "outputs": [],
   "source": [
    "# Write a Python program to count the number of even and odd numbers in a series of numbers"
   ]
  },
  {
   "cell_type": "code",
   "execution_count": null,
   "id": "fdcf40b9",
   "metadata": {},
   "outputs": [],
   "source": [
    "# Write a Python program that accepts a string and calculates the number of digits and letters."
   ]
  },
  {
   "cell_type": "code",
   "execution_count": null,
   "id": "960d1b40",
   "metadata": {},
   "outputs": [],
   "source": [
    "# Write a Python program that prints all the numbers from 0 to 6 except 3 and 6."
   ]
  },
  {
   "cell_type": "code",
   "execution_count": null,
   "id": "ad7f871f",
   "metadata": {},
   "outputs": [],
   "source": [
    "# Write a Program to check if a number is prime or not"
   ]
  },
  {
   "cell_type": "markdown",
   "id": "967e70ee",
   "metadata": {},
   "source": [
    "### While loop"
   ]
  },
  {
   "cell_type": "code",
   "execution_count": null,
   "id": "54b51ff2",
   "metadata": {},
   "outputs": [],
   "source": [
    "#1. Print First 10 natural numbers using while loop"
   ]
  },
  {
   "cell_type": "code",
   "execution_count": null,
   "id": "b07e2693",
   "metadata": {},
   "outputs": [],
   "source": [
    "#. Write a program to count the total number of digits in a number using a while loop.\n",
    "\n",
    "#For example, the number is 75869, so the output should be 5."
   ]
  },
  {
   "cell_type": "code",
   "execution_count": null,
   "id": "d04e463a",
   "metadata": {},
   "outputs": [],
   "source": [
    "#Finding the sum of even numbers using while loop (n=10 even numbers)"
   ]
  },
  {
   "cell_type": "code",
   "execution_count": null,
   "id": "1b828805",
   "metadata": {},
   "outputs": [],
   "source": [
    "#Finding the 10 multiples of a number using while loop"
   ]
  },
  {
   "cell_type": "code",
   "execution_count": null,
   "id": "a714d512",
   "metadata": {},
   "outputs": [],
   "source": [
    "#Printing the square of numbers using while loop"
   ]
  },
  {
   "cell_type": "code",
   "execution_count": null,
   "id": "979a544b",
   "metadata": {},
   "outputs": [],
   "source": [
    "##Finding the average of 5 numbers using while loop"
   ]
  },
  {
   "cell_type": "code",
   "execution_count": null,
   "id": "94322d7b",
   "metadata": {},
   "outputs": [],
   "source": [
    "#Printing all letters except some using Python while loop\n",
    " word=\"Hello \"\n",
    "    #print all letters except y and o"
   ]
  },
  {
   "cell_type": "code",
   "execution_count": null,
   "id": "ae7889f6",
   "metadata": {},
   "outputs": [],
   "source": [
    "#Write a program to find the sum of the digits of a number accepted from user"
   ]
  },
  {
   "cell_type": "code",
   "execution_count": null,
   "id": "1df479a1",
   "metadata": {},
   "outputs": [],
   "source": [
    "# Write a program to print n natural number in descending order using a while loop."
   ]
  },
  {
   "cell_type": "code",
   "execution_count": null,
   "id": "f4c15e5f",
   "metadata": {},
   "outputs": [],
   "source": [
    "# Write a program to print first 10 integers and their squares"
   ]
  },
  {
   "cell_type": "code",
   "execution_count": null,
   "id": "9357b858",
   "metadata": {},
   "outputs": [],
   "source": [
    "# Write a program to calculate the sum of numbers\n",
    "# until the user enters zero"
   ]
  }
 ],
 "metadata": {
  "kernelspec": {
   "display_name": "Python 3 (ipykernel)",
   "language": "python",
   "name": "python3"
  },
  "language_info": {
   "codemirror_mode": {
    "name": "ipython",
    "version": 3
   },
   "file_extension": ".py",
   "mimetype": "text/x-python",
   "name": "python",
   "nbconvert_exporter": "python",
   "pygments_lexer": "ipython3",
   "version": "3.9.13"
  }
 },
 "nbformat": 4,
 "nbformat_minor": 5
}
