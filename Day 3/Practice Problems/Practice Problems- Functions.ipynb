{
 "cells": [
  {
   "cell_type": "markdown",
   "id": "6c76904e",
   "metadata": {},
   "source": [
    "### Functions"
   ]
  },
  {
   "cell_type": "raw",
   "id": "646d2b44",
   "metadata": {},
   "source": [
    "Write a program to create a function that takes two arguments, name and age, and print their value."
   ]
  },
  {
   "cell_type": "raw",
   "id": "2fcd530d",
   "metadata": {},
   "source": [
    "Write a program to create a function show_employee() using the following conditions.\n",
    "\n",
    "It should accept the employee’s name and salary and display both.\n",
    "If the salary is missing in the function call then assign default value 9000 to salary\n",
    "\n",
    "Expected output:\n",
    "Name: Ben salary: 12000\n",
    "Name: Jessa salary: 9000"
   ]
  },
  {
   "cell_type": "raw",
   "id": "978b82df",
   "metadata": {},
   "source": [
    "Assign a different name to function and call it through the new name\n",
    "Below is the function display_student(name, age). Assign a new name show_student(name, age) to it and call it using the new name.\n",
    "\n",
    "def display_student(name, age):\n",
    "    print(name, age)\n",
    "\n",
    "display_student(\"Emma\", 26)\n",
    "\n",
    "##### You should be able to call the same function using\n",
    "\n",
    "show_student(name, age)"
   ]
  },
  {
   "cell_type": "raw",
   "id": "ea085a88",
   "metadata": {},
   "source": [
    "Write a Python function to calculate the factorial of a number (a non-negative integer). The function accepts the number as an argument."
   ]
  },
  {
   "cell_type": "raw",
   "id": "236f43d9",
   "metadata": {},
   "source": [
    "Write a Python function that takes a number as a parameter and check the number is prime or not."
   ]
  },
  {
   "cell_type": "raw",
   "id": "fa3460b8",
   "metadata": {},
   "source": [
    "Write a Python program to create a lambda function that adds 15 to a given number passed in as an argument, also create a lambda function that multiplies argument x with argument y and print the result."
   ]
  },
  {
   "cell_type": "raw",
   "id": "d5eaef92",
   "metadata": {},
   "source": [
    "Write a function to calculate area and perimeter of a rectangle."
   ]
  },
  {
   "cell_type": "raw",
   "id": "798566f4",
   "metadata": {},
   "source": [
    "Write a program to print twin primes less than 1000. If two consecutive odd numbers are both prime then they are known as twin primes"
   ]
  },
  {
   "cell_type": "raw",
   "id": "7eef5f16",
   "metadata": {},
   "source": [
    "Write a function that converts a decimal number to binary number"
   ]
  },
  {
   "cell_type": "raw",
   "id": "7a3134f6",
   "metadata": {},
   "source": [
    "Write a function prodDigits() that inputs a number and returns the product of digits of that number."
   ]
  },
  {
   "cell_type": "raw",
   "id": "68fb1d43",
   "metadata": {},
   "source": [
    "Write a function sumPdivisors() that finds the sum of proper divisors of a number. Proper divisors of a number are those numbers by which the number is divisible, except the number itself. For example proper divisors of 36 are 1, 2, 3, 4, 6, 9, 18"
   ]
  }
 ],
 "metadata": {
  "kernelspec": {
   "display_name": "Python 3 (ipykernel)",
   "language": "python",
   "name": "python3"
  },
  "language_info": {
   "codemirror_mode": {
    "name": "ipython",
    "version": 3
   },
   "file_extension": ".py",
   "mimetype": "text/x-python",
   "name": "python",
   "nbconvert_exporter": "python",
   "pygments_lexer": "ipython3",
   "version": "3.9.13"
  }
 },
 "nbformat": 4,
 "nbformat_minor": 5
}
