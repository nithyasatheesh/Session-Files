{
 "cells": [
  {
   "cell_type": "code",
   "execution_count": 1,
   "id": "b00dd0e8",
   "metadata": {},
   "outputs": [
    {
     "name": "stdout",
     "output_type": "stream",
     "text": [
      "Nithya\n"
     ]
    }
   ],
   "source": [
    "# Make a Python program that prints your name.\n",
    "print(\"Nithya\")"
   ]
  },
  {
   "cell_type": "code",
   "execution_count": 2,
   "id": "9e0a8245",
   "metadata": {},
   "outputs": [
    {
     "name": "stdout",
     "output_type": "stream",
     "text": [
      "5 6 7\n"
     ]
    }
   ],
   "source": [
    "#Make a program that displays several numbers.\n",
    "print(5,6,7)"
   ]
  },
  {
   "cell_type": "code",
   "execution_count": 3,
   "id": "3eac9238",
   "metadata": {},
   "outputs": [
    {
     "name": "stdout",
     "output_type": "stream",
     "text": [
      "96\n"
     ]
    }
   ],
   "source": [
    "#Make a program that solves and shows the summation of 64 + 32.\n",
    "x=64+32\n",
    "print(x)"
   ]
  },
  {
   "cell_type": "code",
   "execution_count": 6,
   "id": "5b85acd0",
   "metadata": {},
   "outputs": [
    {
     "name": "stdout",
     "output_type": "stream",
     "text": [
      "python\n",
      "enter your prefered prog language:  python\n"
     ]
    }
   ],
   "source": [
    "x=input()\n",
    "print(\"enter your prefered prog language: \",x)"
   ]
  },
  {
   "cell_type": "code",
   "execution_count": null,
   "id": "86f74ccb",
   "metadata": {},
   "outputs": [],
   "source": [
    "#### conditional statements"
   ]
  },
  {
   "cell_type": "code",
   "execution_count": null,
   "id": "a13a70ed",
   "metadata": {},
   "outputs": [],
   "source": [
    "x=int(input())\n",
    "if x>1:\n",
    "    if x<=10:\n",
    "        print(\"valid\")\n",
    "    else:\n",
    "        print(\"invalid\")"
   ]
  },
  {
   "cell_type": "code",
   "execution_count": null,
   "id": "1ed5893e",
   "metadata": {},
   "outputs": [],
   "source": [
    "num=int(input(\"Enter your age\"))\n",
    "if num%5==0:\n",
    "    print(\"Hello\")\n",
    "else:\n",
    "    print(\"Bye\")"
   ]
  },
  {
   "cell_type": "code",
   "execution_count": 2,
   "id": "1e9f3cf0",
   "metadata": {},
   "outputs": [
    {
     "name": "stdout",
     "output_type": "stream",
     "text": [
      "Enter number of electric unit345\n",
      "Amount to pay : 1950\n"
     ]
    }
   ],
   "source": [
    "amt=0\n",
    "nu=int(input(\"Enter number of electric unit\"))\n",
    "if nu<=100:\n",
    "     amt=0\n",
    "if nu>100 and nu<=200:\n",
    "     amt=(nu-100)*5\n",
    "if nu>200:\n",
    "     amt=500+(nu-200)*10\n",
    "print(\"Amount to pay :\",amt)"
   ]
  },
  {
   "cell_type": "code",
   "execution_count": null,
   "id": "d3932f88",
   "metadata": {},
   "outputs": [],
   "source": [
    "num=int(input(\"Enter any number\"))\n",
    "print(\"Last digit of number is \",num%10)"
   ]
  },
  {
   "cell_type": "code",
   "execution_count": null,
   "id": "08a55fe2",
   "metadata": {},
   "outputs": [],
   "source": [
    "first=input()\n",
    "second=input()\n",
    "if first>second:\n",
    "    print(first, 'is greater')\n",
    "elif second>first:\n",
    "    print(second,'is greater')\n",
    "else:\n",
    "    print(\"both are equal\")"
   ]
  },
  {
   "cell_type": "code",
   "execution_count": null,
   "id": "a7546896",
   "metadata": {},
   "outputs": [],
   "source": [
    "age=int(input(\"Enter your age\"))\n",
    "if age >=18:\n",
    "   print(\"Eligible for voting\")\n",
    "else:\n",
    "   print(\"not eligible for voting\")"
   ]
  },
  {
   "cell_type": "code",
   "execution_count": null,
   "id": "8b329d0e",
   "metadata": {},
   "outputs": [],
   "source": [
    "num=int(input(\"Enter any number\"))\n",
    "ld=num%10\n",
    "if ld%3==0:\n",
    "     print(\"Last digit of number is divisible by 3 \")\n",
    "else:\n",
    "     print(\"Last digit of number is not divisible by 3 \")"
   ]
  },
  {
   "cell_type": "code",
   "execution_count": null,
   "id": "c75359ce",
   "metadata": {},
   "outputs": [],
   "source": [
    "city = input(\"Enter name of the city\")\n",
    "if city.lower()==\"delhi\":\n",
    "    print(\"Monument name is : Red Fort\")\n",
    "elif city.lower()==\"agra\":\n",
    "    print(\"Monument name is : Taj Mahal\")\n",
    "elif city.lower()==\"jaipur\":\n",
    "    print(\"Monument name is : Jal Mahal\")\n",
    "else:\n",
    "    print(\"Enter correct name of city\")"
   ]
  },
  {
   "cell_type": "code",
   "execution_count": null,
   "id": "ac03002f",
   "metadata": {},
   "outputs": [],
   "source": [
    "n = int(input(\"Enter any number:\"))\n",
    "if n>0 and n<10:\n",
    "    print(\"One digit number\")\n",
    "elif n>10 and n<100:\n",
    "    print(\"Two digit number\")\n",
    "elif n>100 and n<1000:\n",
    "    print(\"Three digit number\")\n",
    "else:\n",
    "    print(\"More than three digit number\")"
   ]
  },
  {
   "cell_type": "code",
   "execution_count": null,
   "id": "fdd79b02",
   "metadata": {},
   "outputs": [],
   "source": [
    "def check_max3():\n",
    "    n1,n2,n3 = int(input(\"Enter no1:\")),int(input(\"Enter no2:\")),int(input(\"Enter no3:\"))\n",
    "    if n1>n2 and n1>n3:\n",
    "        print(\"No1 is maximum\")\n",
    "    elif n2>n1 and n2>n3:\n",
    "        print(\"No2 is maximum\")\n",
    "    elif n3>n1 and n3>n2:\n",
    "        print(\"No3 is maximum\")\n",
    "    else:\n",
    "        print(\"All are equal\")\n",
    "check_max3()"
   ]
  },
  {
   "cell_type": "code",
   "execution_count": null,
   "id": "da423281",
   "metadata": {},
   "outputs": [],
   "source": []
  },
  {
   "cell_type": "code",
   "execution_count": null,
   "id": "1f04754e",
   "metadata": {},
   "outputs": [],
   "source": []
  },
  {
   "cell_type": "code",
   "execution_count": null,
   "id": "aa61611a",
   "metadata": {},
   "outputs": [],
   "source": []
  },
  {
   "cell_type": "code",
   "execution_count": null,
   "id": "8909e1dc",
   "metadata": {},
   "outputs": [],
   "source": []
  },
  {
   "cell_type": "code",
   "execution_count": null,
   "id": "7c380e40",
   "metadata": {},
   "outputs": [],
   "source": []
  },
  {
   "cell_type": "code",
   "execution_count": null,
   "id": "49b751a0",
   "metadata": {},
   "outputs": [],
   "source": []
  },
  {
   "cell_type": "code",
   "execution_count": null,
   "id": "d49e26b6",
   "metadata": {},
   "outputs": [],
   "source": [
    "numbers = [12, 75, 150, 180, 145, 525, 50]\n",
    "# iterate each item of a list\n",
    "for item in numbers:\n",
    "    if item > 500:\n",
    "        break\n",
    "    elif item > 150:\n",
    "        continue\n",
    "    # check if number is divisible by 5\n",
    "    elif item % 5 == 0:\n",
    "        print(item)"
   ]
  },
  {
   "cell_type": "code",
   "execution_count": null,
   "id": "f627f14d",
   "metadata": {},
   "outputs": [],
   "source": [
    "# while loop"
   ]
  },
  {
   "cell_type": "code",
   "execution_count": null,
   "id": "ef97f14f",
   "metadata": {},
   "outputs": [],
   "source": [
    "#Print First 10 natural numbers using while loop\n",
    "i = 1\n",
    "while i <= 10:\n",
    "    print(i)\n",
    "    i += 1"
   ]
  },
  {
   "cell_type": "code",
   "execution_count": null,
   "id": "5e08704f",
   "metadata": {},
   "outputs": [],
   "source": [
    "num = 75869\n",
    "count = 0\n",
    "while num != 0:\n",
    "    # floor division\n",
    "    # to reduce the last digit from number\n",
    "    num = num // 10\n",
    "\n",
    "    # increment counter by 1\n",
    "    count = count + 1\n",
    "print(\"Total digits are:\", count)"
   ]
  },
  {
   "cell_type": "code",
   "execution_count": null,
   "id": "027d7fb0",
   "metadata": {},
   "outputs": [],
   "source": []
  },
  {
   "cell_type": "code",
   "execution_count": null,
   "id": "1ddfdba7",
   "metadata": {},
   "outputs": [],
   "source": [
    "# function with default argument\n",
    "def show_employee(name, salary=9000):\n",
    "    print(\"Name:\", name, \"salary:\", salary)\n",
    "\n",
    "show_employee(\"Ben\", 12000)\n",
    "show_employee(\"Jessa\")"
   ]
  },
  {
   "cell_type": "code",
   "execution_count": null,
   "id": "0d7b9ad6",
   "metadata": {},
   "outputs": [],
   "source": [
    "def display_student(name, age):\n",
    "    print(name, age)\n",
    "\n",
    "# call using original name\n",
    "display_student(\"Emma\", 26)\n",
    "\n",
    "# assign new name\n",
    "showStudent = display_student\n",
    "# call using new name\n",
    "showStudent(\"Emma\", 26)"
   ]
  },
  {
   "cell_type": "code",
   "execution_count": null,
   "id": "960a4b30",
   "metadata": {},
   "outputs": [],
   "source": []
  }
 ],
 "metadata": {
  "kernelspec": {
   "display_name": "Python 3 (ipykernel)",
   "language": "python",
   "name": "python3"
  },
  "language_info": {
   "codemirror_mode": {
    "name": "ipython",
    "version": 3
   },
   "file_extension": ".py",
   "mimetype": "text/x-python",
   "name": "python",
   "nbconvert_exporter": "python",
   "pygments_lexer": "ipython3",
   "version": "3.9.7"
  }
 },
 "nbformat": 4,
 "nbformat_minor": 5
}
