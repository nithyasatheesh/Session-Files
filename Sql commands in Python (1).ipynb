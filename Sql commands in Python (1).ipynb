{
 "cells": [
  {
   "cell_type": "markdown",
   "id": "e99d3050",
   "metadata": {},
   "source": [
    "# Connect Data base in Python & Writing sql commands in Python"
   ]
  },
  {
   "cell_type": "code",
   "execution_count": null,
   "id": "7bc83a27",
   "metadata": {},
   "outputs": [],
   "source": [
    "# importing the module\n",
    "import sqlite3"
   ]
  },
  {
   "cell_type": "markdown",
   "id": "12b335fc",
   "metadata": {},
   "source": [
    "### To View list of tables in the existing database"
   ]
  },
  {
   "cell_type": "code",
   "execution_count": null,
   "id": "e6af1675",
   "metadata": {},
   "outputs": [],
   "source": [
    "# connect withe the myTable database\n",
    "connection = sqlite3.connect(\"D://Files//chinook.db\")\n",
    "\n",
    "# cursor object\n",
    "# A cursor is an object which helps to execute the query and fetch the records from the database\n",
    "crsr = connection.cursor()\n",
    "\n",
    "# execute the command to view all tables in the data base\n",
    "\n",
    "crsr.execute(\"SELECT name FROM sqlite_master WHERE type='table';\")\n",
    "#Sqlite_master table is created for each database automatically.\n",
    "#It describes the schema of each table with some additional informations\n",
    "\n",
    "print(crsr.fetchall())\n",
    "# fetches all the rows of a query result. It returns all the rows as a list of tuples"
   ]
  },
  {
   "cell_type": "code",
   "execution_count": null,
   "id": "71c13cd3",
   "metadata": {},
   "outputs": [],
   "source": [
    "# # execute the command to fetch all the data from the table albums\n",
    "crsr.execute(\"SELECT * FROM albums\")\n",
    "  \n",
    "# store all the fetched data in the ans variable\n",
    "ans = crsr.fetchall()\n",
    "print(ans)"
   ]
  },
  {
   "cell_type": "code",
   "execution_count": null,
   "id": "3eeb53b7",
   "metadata": {},
   "outputs": [],
   "source": [
    "# execute the command to fetch all the data from the table employees\n",
    "crsr.execute(\"SELECT * FROM employees\")\n",
    "  \n",
    "# store all the fetched data in the ans variable\n",
    "ans1 = crsr.fetchall()\n",
    "print(ans1)"
   ]
  },
  {
   "cell_type": "code",
   "execution_count": null,
   "id": "69a114ca",
   "metadata": {},
   "outputs": [],
   "source": [
    "# execute the command to fetch all the data from the table employees\n",
    "crsr.execute(\"SELECT * FROM employees\")\n",
    "  \n",
    "# store all the fetched data in the ans variable\n",
    "ans = crsr.fetchall()\n",
    "  \n",
    "# Since we have already selected all the data entries\n",
    "# using the \"SELECT *\" SQL command and stored them in\n",
    "# the ans variable, all we need to do now is to print\n",
    "# out the ans variable\n",
    "for i in ans:\n",
    "    print(i)"
   ]
  },
  {
   "cell_type": "markdown",
   "id": "b5b65e6d",
   "metadata": {},
   "source": [
    "## Create Database (test_database2)"
   ]
  },
  {
   "cell_type": "code",
   "execution_count": null,
   "id": "9ce23d39",
   "metadata": {},
   "outputs": [],
   "source": [
    "## import sqlite3\n",
    "\n",
    "connection = sqlite3.connect('D://Files//test_database') \n",
    "c = connection.cursor()\n",
    "\n",
    "c.execute('''\n",
    "          CREATE TABLE IF NOT EXISTS products\n",
    "          ([product_id1] INTEGER PRIMARY KEY, [product_name1] TEXT)\n",
    "          ''')\n",
    "          \n",
    "c.execute('''\n",
    "          CREATE TABLE IF NOT EXISTS prices\n",
    "          ([product_id1] INTEGER PRIMARY KEY, [price1] INTEGER)\n",
    "          ''')\n",
    "                     \n",
    "connection.commit()"
   ]
  },
  {
   "cell_type": "markdown",
   "id": "8d6c98ee",
   "metadata": {},
   "source": [
    "### Insert values into the tables"
   ]
  },
  {
   "cell_type": "code",
   "execution_count": null,
   "id": "8d7b100a",
   "metadata": {},
   "outputs": [],
   "source": [
    "c.execute('''\n",
    "          INSERT INTO products (product_id1, product_name1)\n",
    "\n",
    "                VALUES\n",
    "                (1,'Computer'),\n",
    "                (2,'Printer'),\n",
    "                (3,'Tablet'),\n",
    "                (4,'Desk'),\n",
    "                (5,'Chair')\n",
    "          ''')\n",
    "\n",
    "c.execute('''\n",
    "          INSERT INTO prices (product_id1, price1)\n",
    "\n",
    "                VALUES\n",
    "                (1,1800),\n",
    "                (2,1200),\n",
    "                (3,1300),\n",
    "                (4,1450),\n",
    "                (5,1150)\n",
    "          ''')\n",
    "\n",
    "connection.commit()\n"
   ]
  },
  {
   "cell_type": "markdown",
   "id": "594f9fbf",
   "metadata": {},
   "source": [
    "### Display the results\n",
    " join the ‘products‘ table with the ‘prices‘ table using the product_id column which is present in both tables."
   ]
  },
  {
   "cell_type": "code",
   "execution_count": null,
   "id": "c9de10e6",
   "metadata": {},
   "outputs": [],
   "source": [
    "import pandas as pd\n",
    "c.execute('''\n",
    "          SELECT\n",
    "          a.product_name1,\n",
    "          b.price1\n",
    "          FROM products a\n",
    "          LEFT JOIN prices b ON a.product_id1 = b.product_id1\n",
    "          ''')\n",
    "\n",
    "df = pd.DataFrame(c.fetchall(), columns=['product_name1','price1'])\n",
    "print (df)"
   ]
  },
  {
   "cell_type": "code",
   "execution_count": null,
   "id": "fe238442",
   "metadata": {},
   "outputs": [],
   "source": [
    "# connect with the created database\n",
    "connection = sqlite3.connect(\"D://Files//test_database3\")\n",
    "\n",
    "# cursor object\n",
    "crsr = connection.cursor()\n",
    "\n",
    "# execute the command to view all tables in the test_database \n",
    "crsr.execute(\"SELECT name FROM sqlite_master WHERE type='table';\")\n",
    "\n",
    "print(crsr.fetchall())"
   ]
  },
  {
   "cell_type": "code",
   "execution_count": null,
   "id": "3c46d2b2",
   "metadata": {},
   "outputs": [],
   "source": [
    "cursor = crsr.execute(\"SELECT * FROM prices\")\n",
    "print(crsr.fetchall())"
   ]
  },
  {
   "cell_type": "code",
   "execution_count": null,
   "id": "b08329bf",
   "metadata": {},
   "outputs": [],
   "source": [
    "# delete a record from database\n",
    "crsr.execute(\"DELETE from prices where price=1200\")\n",
    "cursor = crsr.execute(\"SELECT * FROM prices\")\n",
    "#print( \"Total number of rows deleted :\", crsr.total_changes)\n",
    "for row in cursor:\n",
    "    print (row)\n",
    "\n",
    "crsr.close()  \n"
   ]
  },
  {
   "cell_type": "code",
   "execution_count": null,
   "id": "7dadf41d",
   "metadata": {},
   "outputs": [],
   "source": []
  }
 ],
 "metadata": {
  "kernelspec": {
   "display_name": "Python 3 (ipykernel)",
   "language": "python",
   "name": "python3"
  },
  "language_info": {
   "codemirror_mode": {
    "name": "ipython",
    "version": 3
   },
   "file_extension": ".py",
   "mimetype": "text/x-python",
   "name": "python",
   "nbconvert_exporter": "python",
   "pygments_lexer": "ipython3",
   "version": "3.9.13"
  }
 },
 "nbformat": 4,
 "nbformat_minor": 5
}
