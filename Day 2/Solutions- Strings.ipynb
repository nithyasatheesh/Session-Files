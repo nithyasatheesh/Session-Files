{
 "cells": [
  {
   "cell_type": "code",
   "execution_count": 1,
   "id": "7ab7c261",
   "metadata": {},
   "outputs": [],
   "source": [
    "### string operations"
   ]
  },
  {
   "cell_type": "raw",
   "id": "c2f0873b",
   "metadata": {},
   "source": [
    "Write a Python program to calculate the length of a string\n",
    "Source Code\n",
    "\"\"\"\n",
    "#First Method\n",
    "str = \"Tutor Joes\"\n",
    "print(\"Length of String :\",len(str))\n",
    "\"\"\"\n",
    "#Second Method\n",
    "str = \"Tutor Joes\"\n",
    "tot = 0\n",
    "for c in str:\n",
    "\ttot += 1\n",
    "print(\"Length of String :\",tot)"
   ]
  },
  {
   "cell_type": "code",
   "execution_count": 2,
   "id": "a2af9bd9",
   "metadata": {},
   "outputs": [
    {
     "name": "stdout",
     "output_type": "stream",
     "text": [
      "It.\n"
     ]
    }
   ],
   "source": [
    "#By using first, second and last characters of the string, create a new string.\n",
    "\n",
    "str1=\"It's always darkest before dawn.\"\n",
    "\n",
    "#Type your answer here.\n",
    "\n",
    "ans_1=str1[0:2]+str1[-1]\n",
    "\n",
    "print(ans_1)"
   ]
  },
  {
   "cell_type": "code",
   "execution_count": 3,
   "id": "96ea33c9",
   "metadata": {},
   "outputs": [
    {
     "name": "stdout",
     "output_type": "stream",
     "text": [
      "every strike brings me closer to the next home run.\n"
     ]
    }
   ],
   "source": [
    "#Reassign str so that, all its characters are lowercase.\n",
    "\n",
    "str1=\"EVERY Strike Brings Me Closer to the Next Home run.\"\n",
    "# Type your code here.\n",
    "str1=str1.lower()\n",
    "print(str1)\n"
   ]
  },
  {
   "cell_type": "code",
   "execution_count": 4,
   "id": "503908ae",
   "metadata": {},
   "outputs": [
    {
     "name": "stdout",
     "output_type": "stream",
     "text": [
      "It's always darkest before dawn!\n"
     ]
    }
   ],
   "source": [
    "#Replace the (.) with (!)\n",
    "\n",
    "str1=\"It's always darkest before dawn.\"\n",
    "\n",
    "#Type your code here.\n",
    "str1=str1.replace('.','!')\n",
    "\n",
    "print(str1)"
   ]
  },
  {
   "cell_type": "code",
   "execution_count": 5,
   "id": "f5c1542f",
   "metadata": {},
   "outputs": [
    {
     "name": "stdout",
     "output_type": "stream",
     "text": [
      "There are no traffic jams along the extra mile.\n"
     ]
    }
   ],
   "source": [
    "#Make the string so that everything is properly and first letter is capital with one function.\n",
    "\n",
    "str1=\"there are no traffic JamS Along The extra mile.\"\n",
    "\n",
    "#Type your answer here.\n",
    "\n",
    "str1=str1.capitalize()\n",
    "\n",
    "print(str1)"
   ]
  },
  {
   "cell_type": "code",
   "execution_count": 6,
   "id": "51aa7a3c",
   "metadata": {},
   "outputs": [
    {
     "name": "stdout",
     "output_type": "stream",
     "text": [
      "False\n"
     ]
    }
   ],
   "source": [
    "#Does the string start with an A?\n",
    "\n",
    "str1=\"There are no traffic jams along the extra mile.\"\n",
    "#  Type your code here.\n",
    "\n",
    "ans_1=str1.startswith(\"A\")\n",
    "\n",
    "print(ans_1)"
   ]
  },
  {
   "cell_type": "code",
   "execution_count": 7,
   "id": "f3376ad1",
   "metadata": {},
   "outputs": [
    {
     "name": "stdout",
     "output_type": "stream",
     "text": [
      "count of a is:  7  count of o is:  7\n"
     ]
    }
   ],
   "source": [
    "#Which character occur more often in the string? \"a\" or \"o\" ? Print both counts inside the print #function.\n",
    "\n",
    "str1=\"People often say that motivation doesn't last. Well, neither does bathing.  That's why we recommend it daily.\"\n",
    "#  Type your code here.\n",
    "\n",
    "ans_1=str1.count('a')\n",
    "\n",
    "ans_2=str1.count('o')\n",
    "\n",
    "print(\"count of a is: \", ans_1, \" count of o is: \", ans_2)\n"
   ]
  },
  {
   "cell_type": "raw",
   "id": "8a24b137",
   "metadata": {},
   "source": []
  },
  {
   "cell_type": "code",
   "execution_count": null,
   "id": "2f20ae3b",
   "metadata": {},
   "outputs": [],
   "source": []
  }
 ],
 "metadata": {
  "kernelspec": {
   "display_name": "Python 3 (ipykernel)",
   "language": "python",
   "name": "python3"
  },
  "language_info": {
   "codemirror_mode": {
    "name": "ipython",
    "version": 3
   },
   "file_extension": ".py",
   "mimetype": "text/x-python",
   "name": "python",
   "nbconvert_exporter": "python",
   "pygments_lexer": "ipython3",
   "version": "3.9.13"
  }
 },
 "nbformat": 4,
 "nbformat_minor": 5
}
